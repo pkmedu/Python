


%cd C:\Users\pmuhuri\AppData\Local\anaconda3\envs\my_django_env


!conda activate my_django_env
print("Conda activated")





%cd C:/Users/pmuhuri/DjangoProjects/newsite


import os
os.listdir()


import os

def print_folder_structure(start_path, indent=''):
    try:
        items = sorted(os.listdir(start_path))
    except PermissionError:
        print(indent + '[Permission Denied]')
        return

    for item in items:
        item_path = os.path.join(start_path, item)
        if os.path.isdir(item_path):
            print(f"{indent}📁 {item}")
            print_folder_structure(item_path, indent + '    ')
        else:
            print(f"{indent}📄 {item}")

# Change this path if needed
root_directory = r'C:\Users\pmuhuri\DjangoProjects\newsite'
print(f"Folder structure of: {root_directory}\n")
print_folder_structure(root_directory)



%cd C:/Users/pmuhuri/DjangoProjects/newsite/myproject


import os
os.listdir()


import os

def print_folder_structure(start_path, indent=''):
    try:
        items = sorted(os.listdir(start_path))
    except PermissionError:
        print(indent + '[Permission Denied]')
        return

    for item in items:
        item_path = os.path.join(start_path, item)
        if os.path.isdir(item_path):
            print(f"{indent}📁 {item}")
            print_folder_structure(item_path, indent + '    ')
        else:
            print(f"{indent}📄 {item}")

# Change this path if needed
root_directory = r'C:\Users\pmuhuri\DjangoProjects\newsite\myproject'
print(f"Folder structure of: {root_directory}\n")
print_folder_structure(root_directory)



# Print the content of key Django project files

file_paths = [
    r'C:\Users\pmuhuri\DjangoProjects\newsite\manage.py',
    r'C:\Users\pmuhuri\DjangoProjects\newsite\excelapp\urls.py',
    r'C:\Users\pmuhuri\DjangoProjects\newsite\excelapp\views.py',
    r'C:\Users\pmuhuri\DjangoProjects\newsite\myproject\urls.py',
    r'C:\Users\pmuhuri\DjangoProjects\newsite\myproject\settings.py',
]

for path in file_paths:
    print(f"\nContents of: {path}\n" + "-"*60)
    try:
        with open(path, 'r') as fd:
            print(fd.read())
    except FileNotFoundError:
        print("File not found.")
    except Exception as e:
        print(f"Error reading file: {e}")






%cd C:/Users/pmuhuri/DjangoProjects/newsite





!python manage.py runserver





# Open the SAS configuration file in read mode
fd = open(r'C:\Python\DjangoScripts\run_django_server_rev2.bat')
# Read the entire content of the file and print it to the console
print(fd.read())
# Close the file to free up system resources
fd.close()



