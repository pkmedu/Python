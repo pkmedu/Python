














%cd C:\Users\pmuhuri\AppData\Local\anaconda3\envs\bd_minority_videos











%cd C:\Users\pmuhuri\DjangoProjects\bdmsite





%cd C:\Users\pmuhuri\DjangoProjects\bdmsite





import os
os.listdir()


import os

def print_folder_structure(start_path, indent=''):
    try:
        items = sorted(os.listdir(start_path))
    except PermissionError:
        print(indent + '[Permission Denied]')
        return

    for item in items:
        item_path = os.path.join(start_path, item)
        if os.path.isdir(item_path):
            print(f"{indent}📁 {item}")
            print_folder_structure(item_path, indent + '    ')
        else:
            print(f"{indent}📄 {item}")

# Change this path if needed
root_directory = r'C:\Users\pmuhuri\DjangoProjects\bdmsite'
print(f"Folder structure of: {root_directory}\n")
print_folder_structure(root_directory)








!python manage.py makemigrations videos





# Open the SAS configuration file in read mode
fd = open(r'C:\Python\DjangoScripts\run_bdm.bat')
# Read the entire content of the file and print it to the console
print(fd.read())
# Close the file to free up system resources
fd.close()



