


# Display information about all conda environments
# This command lists all available conda environments on the system
# along with their locations and indicates the currently active environment
!conda info --envs






