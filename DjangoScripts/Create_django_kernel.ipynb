{
 "cells": [
  {
   "cell_type": "code",
   "execution_count": null,
   "id": "94d160b8-d96a-4a74-b699-1a29e80b09f3",
   "metadata": {},
   "outputs": [],
   "source": []
  },
  {
   "cell_type": "code",
   "execution_count": null,
   "id": "74211faa-db6a-4631-bc40-99c165036982",
   "metadata": {},
   "outputs": [],
   "source": [
    "!pip install ipykernel\n"
   ]
  },
  {
   "cell_type": "code",
   "execution_count": 17,
   "id": "9a77725a-0478-4ba0-ae2a-d987f9247a92",
   "metadata": {},
   "outputs": [
    {
     "name": "stdout",
     "output_type": "stream",
     "text": [
      "Installed kernelspec my_django_env in C:\\Users\\pmuhuri\\AppData\\Roaming\\jupyter\\kernels\\my_django_env\n"
     ]
    }
   ],
   "source": [
    "!python -m ipykernel install --user --name=my_django_env --display-name \"Python (my_django_env)\"\n"
   ]
  }
 ],
 "metadata": {
  "kernelspec": {
   "display_name": "Python [conda env:base] *",
   "language": "python",
   "name": "conda-base-py"
  },
  "language_info": {
   "codemirror_mode": {
    "name": "ipython",
    "version": 3
   },
   "file_extension": ".py",
   "mimetype": "text/x-python",
   "name": "python",
   "nbconvert_exporter": "python",
   "pygments_lexer": "ipython3",
   "version": "3.12.7"
  }
 },
 "nbformat": 4,
 "nbformat_minor": 5
}
