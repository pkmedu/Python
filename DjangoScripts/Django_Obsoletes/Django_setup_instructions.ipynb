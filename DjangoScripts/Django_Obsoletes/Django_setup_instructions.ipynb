{
 "cells": [
  {
   "cell_type": "markdown",
   "id": "ed573380-72b9-4755-b4b6-4aa53ed64c4a",
   "metadata": {},
   "source": [
    "#### 1. Create a new Conda environment with Python 3.12:\n",
    "\n",
    "   ```\n",
    "   conda create -n my_django_env python=3.12\n",
    "   ```\n",
    "The above command creates a new conda environment named my_django_env\n",
    "with Python 3.12 installed. \n",
    "    \n",
    "The isolated environment is in:\n",
    "```\n",
    "C:\\Users\\pmuhuri\\AppData\\Local\\anaconda3\\envs\\my_django_env\n",
    "```\n",
    "#### 2.\tActivate the new environment:\n",
    "```\n",
    "    conda activate my_django_env\n",
    "```\n",
    "Now, I see this on the prompt:\n",
    "\n",
    "(my_django_env) C:\\Users\\pmuhuri\\AppData\\Local\\anaconda3>\n",
    "\n",
    "#### 3.\tInstall Django via pip inside the environment:\n",
    "```\n",
    "    pip install django\n",
    "```  \n",
    "    This installs Django only in `my_django_env`, not globally.\n",
    "\n",
    "#### 4. Create a folder where your Django project will live and make it a current directory.\n",
    "\n",
    " ``` \n",
    "    mkdir C:\\Users\\pmuhuri\\DjangoProjects\\mysite\n",
    "    cd C:\\Users\\pmuhuri\\DjangoProjects\\mysite\n",
    "```\n",
    "#### 5.  Initialize a new Django project named mysite and place the project files in the current directory (.)\n",
    "\n",
    "```\n",
    "    django-admin startproject mysite .\n",
    "```   \n",
    "\n",
    "#### 6. Final Notes\n",
    "\n",
    "* You can verify if Django is installed by running:\n",
    "```\n",
    "    (base) C:\\Users\\pmuhuri\\AppData\\Local\\anaconda3\\envs\\my_django_env>python -m django --version\n",
    "````\n",
    "    \n",
    "* Every time you work on your Django project, run:\n",
    "```\n",
    "    conda activate my_django_env\n",
    "```"
   ]
  },
  {
   "cell_type": "code",
   "execution_count": 11,
   "id": "5459aa2b-5bbb-4252-b7e9-ee0e46d064ee",
   "metadata": {},
   "outputs": [
    {
     "name": "stdout",
     "output_type": "stream",
     "text": [
      "\n",
      "# conda environments:\n",
      "#\n",
      "                       C:\\Users\\pmuhuri\\AppData\\Local\\R-MINI~1\n",
      "                       C:\\Users\\pmuhuri\\AppData\\Local\\R-MINI~1\\envs\\r-reticulate\n",
      "base                 * C:\\Users\\pmuhuri\\AppData\\Local\\anaconda3\n",
      "my_django_env          C:\\Users\\pmuhuri\\AppData\\Local\\anaconda3\\envs\\my_django_env\n",
      "                       C:\\Users\\pmuhuri\\AppData\\Local\\r-miniconda\\envs\\r-reticulate\n",
      "\n"
     ]
    }
   ],
   "source": [
    "# Display information about all conda environments\n",
    "# This command lists all available conda environments on the system\n",
    "# along with their locations and indicates the currently active environment\n",
    "!conda info --envs"
   ]
  },
  {
   "cell_type": "markdown",
   "id": "177120d0-1d92-47c1-9fc1-70eb27080d09",
   "metadata": {},
   "source": [
    "#### Make sure my_django_env is available in JupyterLab as a kernel\n",
    "In Anaconda Prompt (not Jupyter), run:\n",
    "```\n",
    "conda activate my_django_env\n",
    "pip install ipykernel\n",
    "python -m ipykernel install --user --name=my_django_env --display-name \"Python (my_django_env)\"\n",
    "```"
   ]
  },
  {
   "cell_type": "code",
   "execution_count": null,
   "id": "d63030dd-fd99-4775-acf3-29c116516715",
   "metadata": {},
   "outputs": [],
   "source": []
  }
 ],
 "metadata": {
  "kernelspec": {
   "display_name": "Python (minority_django_env)",
   "language": "python",
   "name": "my_django_env"
  },
  "language_info": {
   "codemirror_mode": {
    "name": "ipython",
    "version": 3
   },
   "file_extension": ".py",
   "mimetype": "text/x-python",
   "name": "python",
   "nbconvert_exporter": "python",
   "pygments_lexer": "ipython3",
   "version": "3.12.7"
  }
 },
 "nbformat": 4,
 "nbformat_minor": 5
}
