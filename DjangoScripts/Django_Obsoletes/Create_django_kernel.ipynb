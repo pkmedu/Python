{
 "cells": [
  {
   "cell_type": "code",
   "execution_count": null,
   "id": "74211faa-db6a-4631-bc40-99c165036982",
   "metadata": {},
   "outputs": [],
   "source": [
    "!pip install ipykernel\n"
   ]
  },
  {
   "cell_type": "code",
   "execution_count": 11,
   "id": "9a77725a-0478-4ba0-ae2a-d987f9247a92",
   "metadata": {},
   "outputs": [
    {
     "name": "stdout",
     "output_type": "stream",
     "text": [
      "Installed kernelspec minority_django_env in C:\\Users\\pmuhuri\\AppData\\Roaming\\jupyter\\kernels\\minority_django_env\n"
     ]
    }
   ],
   "source": [
    "!python -m ipykernel install \\\n",
    "    --user \\\n",
    "    --name=minority_django_env \\\n",
    "    --display-name \"Python (minority_django_env)\"\n"
   ]
  },
  {
   "cell_type": "code",
   "execution_count": null,
   "id": "9345d274-d48c-455d-acfb-3e9684da7c8e",
   "metadata": {},
   "outputs": [],
   "source": []
  }
 ],
 "metadata": {
  "kernelspec": {
   "display_name": "Python [conda env:base] *",
   "language": "python",
   "name": "conda-base-py"
  },
  "language_info": {
   "codemirror_mode": {
    "name": "ipython",
    "version": 3
   },
   "file_extension": ".py",
   "mimetype": "text/x-python",
   "name": "python",
   "nbconvert_exporter": "python",
   "pygments_lexer": "ipython3",
   "version": "3.12.7"
  }
 },
 "nbformat": 4,
 "nbformat_minor": 5
}
