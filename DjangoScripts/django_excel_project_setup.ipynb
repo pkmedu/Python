{
 "cells": [
  {
   "cell_type": "markdown",
   "id": "347ca5df",
   "metadata": {},
   "source": [
    "# Django Excel App: Project Setup in JupyterLab"
   ]
  },
  {
   "cell_type": "markdown",
   "id": "b3d25f60",
   "metadata": {},
   "source": [
    "\n",
    "This notebook walks through creating a Django project that reads an Excel file and displays it in a web browser. It includes:\n",
    "- Creating the Django project and app\n",
    "- Setting up the view to read and render the Excel file\n",
    "- Adding URL routing\n",
    "- Creating a Bootstrap-styled HTML template\n"
   ]
  },
  {
   "cell_type": "code",
   "execution_count": 6,
   "id": "014fdc68-1c7c-47ff-af12-02a13a41f062",
   "metadata": {},
   "outputs": [
    {
     "name": "stdout",
     "output_type": "stream",
     "text": [
      "C:\\Users\\pmuhuri\\AppData\\Local\\anaconda3\\envs\\my_django_env\n"
     ]
    }
   ],
   "source": [
    "%cd C:\\Users\\pmuhuri\\AppData\\Local\\anaconda3\\envs\\my_django_env\n"
   ]
  },
  {
   "cell_type": "code",
   "execution_count": null,
   "id": "fd81005f",
   "metadata": {},
   "outputs": [],
   "source": [
    "!pip install django openpyxl pandas"
   ]
  },
  {
   "cell_type": "code",
   "execution_count": 10,
   "id": "3e8c31d6",
   "metadata": {},
   "outputs": [],
   "source": [
    "\n",
    "import os\n",
    "\n",
    "project_root = \"myproject\"\n",
    "app_name = \"excelapp\"\n",
    "os.makedirs(os.path.join(project_root, \"data\"), exist_ok=True)\n",
    "os.makedirs(os.path.join(project_root, app_name), exist_ok=True)\n",
    "os.makedirs(os.path.join(project_root, app_name, \"templates\", app_name), exist_ok=True)\n",
    "os.makedirs(os.path.join(project_root, \"myproject\"), exist_ok=True)\n"
   ]
  },
  {
   "cell_type": "code",
   "execution_count": null,
   "id": "cfbc5cf0",
   "metadata": {},
   "outputs": [],
   "source": [
    "\n",
    "import pandas as pd\n",
    "\n",
    "df = pd.DataFrame({\n",
    "    \"Name\": [\"Alice\", \"Bob\", \"Charlie\"],\n",
    "    \"Score\": [85, 90, 95]\n",
    "})\n",
    "df.to_excel(os.path.join(project_root, \"data\", \"combined_all.xlsx\"), index=False)\n"
   ]
  },
  {
   "cell_type": "code",
   "execution_count": null,
   "id": "5ac5e8c5",
   "metadata": {},
   "outputs": [],
   "source": [
    "\n",
    "with open(os.path.join(project_root, \"manage.py\"), \"w\") as f:\n",
    "    f.write(\"\"\"#!/usr/bin/env python\n",
    "import os\n",
    "import sys\n",
    "\n",
    "if __name__ == \"__main__\":\n",
    "    os.environ.setdefault(\"DJANGO_SETTINGS_MODULE\", \"myproject.settings\")\n",
    "    from django.core.management import execute_from_command_line\n",
    "    execute_from_command_line(sys.argv)\n",
    "\"\"\")\n"
   ]
  },
  {
   "cell_type": "code",
   "execution_count": null,
   "id": "0506aa03",
   "metadata": {},
   "outputs": [],
   "source": [
    "\n",
    "with open(os.path.join(project_root, \"myproject\", \"settings.py\"), \"w\") as f:\n",
    "    f.write(f\"\"\"import os\n",
    "\n",
    "BASE_DIR = os.path.dirname(os.path.dirname(os.path.abspath(__file__)))\n",
    "\n",
    "SECRET_KEY = 'dummy-key'\n",
    "DEBUG = True\n",
    "ALLOWED_HOSTS = []\n",
    "\n",
    "INSTALLED_APPS = [\n",
    "    '{app_name}',\n",
    "    'django.contrib.admin',\n",
    "    'django.contrib.auth',\n",
    "    'django.contrib.contenttypes',\n",
    "    'django.contrib.sessions',\n",
    "    'django.contrib.messages',\n",
    "    'django.contrib.staticfiles',\n",
    "]\n",
    "\n",
    "MIDDLEWARE = [\n",
    "    'django.middleware.security.SecurityMiddleware',\n",
    "    'django.contrib.sessions.middleware.SessionMiddleware',\n",
    "    'django.middleware.common.CommonMiddleware',\n",
    "    'django.middleware.csrf.CsrfViewMiddleware',\n",
    "    'django.contrib.auth.middleware.AuthenticationMiddleware',\n",
    "    'django.contrib.messages.middleware.MessageMiddleware',\n",
    "    'django.middleware.clickjacking.XFrameOptionsMiddleware',\n",
    "]\n",
    "\n",
    "ROOT_URLCONF = 'myproject.urls'\n",
    "\n",
    "TEMPLATES = [\n",
    "    {{\n",
    "        'BACKEND': 'django.template.backends.django.DjangoTemplates',\n",
    "        'DIRS': [],\n",
    "        'APP_DIRS': True,\n",
    "        'OPTIONS': {{\n",
    "            'context_processors': [\n",
    "                'django.template.context_processors.debug',\n",
    "                'django.template.context_processors.request',\n",
    "                'django.contrib.auth.context_processors.auth',\n",
    "                'django.contrib.messages.context_processors.messages',\n",
    "            ],\n",
    "        }},\n",
    "    }},\n",
    "]\n",
    "\n",
    "WSGI_APPLICATION = 'myproject.wsgi.application'\n",
    "\n",
    "DATABASES = {{\n",
    "    'default': {{\n",
    "        'ENGINE': 'django.db.backends.sqlite3',\n",
    "        'NAME': os.path.join(BASE_DIR, 'db.sqlite3'),\n",
    "    }}\n",
    "}}\n",
    "\n",
    "LANGUAGE_CODE = 'en-us'\n",
    "TIME_ZONE = 'UTC'\n",
    "USE_I18N = True\n",
    "USE_L10N = True\n",
    "USE_TZ = True\n",
    "\n",
    "STATIC_URL = '/static/'\n",
    "\"\"\")\n"
   ]
  },
  {
   "cell_type": "code",
   "execution_count": null,
   "id": "47a034f3",
   "metadata": {},
   "outputs": [],
   "source": [
    "\n",
    "with open(os.path.join(project_root, app_name, \"views.py\"), \"w\") as f:\n",
    "    f.write(\"\"\"import os\n",
    "import pandas as pd\n",
    "from django.shortcuts import render\n",
    "from django.conf import settings\n",
    "\n",
    "def excel_view(request):\n",
    "    file_path = os.path.join(settings.BASE_DIR, 'data', 'combined_all.xlsx')\n",
    "    df = pd.read_excel(file_path, engine='openpyxl')\n",
    "    table_html = df.to_html(classes=\"table table-striped\", index=False)\n",
    "    return render(request, 'excelapp/excel.html', {'table_html': table_html})\n",
    "\"\"\")\n"
   ]
  },
  {
   "cell_type": "code",
   "execution_count": null,
   "id": "97ed062b",
   "metadata": {},
   "outputs": [],
   "source": [
    "\n",
    "# App-level urls.py\n",
    "with open(os.path.join(project_root, app_name, \"urls.py\"), \"w\") as f:\n",
    "    f.write(\"\"\"from django.urls import path\n",
    "from . import views\n",
    "\n",
    "urlpatterns = [\n",
    "    path('', views.excel_view, name='excel'),\n",
    "]\n",
    "\"\"\")\n",
    "\n",
    "# Project-level urls.py\n",
    "with open(os.path.join(project_root, \"myproject\", \"urls.py\"), \"w\") as f:\n",
    "    f.write(f\"\"\"from django.contrib import admin\n",
    "from django.urls import path, include\n",
    "\n",
    "urlpatterns = [\n",
    "    path('', include('{app_name}.urls')),\n",
    "    path('admin/', admin.site.urls),\n",
    "]\n",
    "\"\"\")\n"
   ]
  },
  {
   "cell_type": "code",
   "execution_count": null,
   "id": "3613c740",
   "metadata": {},
   "outputs": [],
   "source": [
    "\n",
    "open(os.path.join(project_root, \"myproject\", \"__init__.py\"), \"w\").close()\n",
    "\n",
    "with open(os.path.join(project_root, \"myproject\", \"wsgi.py\"), \"w\") as f:\n",
    "    f.write(\"\"\"import os\n",
    "from django.core.wsgi import get_wsgi_application\n",
    "\n",
    "os.environ.setdefault(\"DJANGO_SETTINGS_MODULE\", \"myproject.settings\")\n",
    "application = get_wsgi_application()\n",
    "\"\"\")\n",
    "\n",
    "with open(os.path.join(project_root, \"myproject\", \"asgi.py\"), \"w\") as f:\n",
    "    f.write(\"\"\"import os\n",
    "from django.core.asgi import get_asgi_application\n",
    "\n",
    "os.environ.setdefault(\"DJANGO_SETTINGS_MODULE\", \"myproject.settings\")\n",
    "application = get_asgi_application()\n",
    "\"\"\")\n"
   ]
  },
  {
   "cell_type": "code",
   "execution_count": null,
   "id": "5a2f4d6a",
   "metadata": {},
   "outputs": [],
   "source": [
    "\n",
    "html_path = os.path.join(project_root, app_name, \"templates\", app_name, \"excel.html\")\n",
    "with open(html_path, \"w\") as f:\n",
    "    f.write(\"\"\"<!DOCTYPE html>\n",
    "<html>\n",
    "<head>\n",
    "    <title>Excel Data</title>\n",
    "    <link rel=\"stylesheet\" href=\"https://cdn.jsdelivr.net/npm/bootstrap@5.3.0/dist/css/bootstrap.min.css\">\n",
    "</head>\n",
    "<body>\n",
    "    <div class=\"container mt-5\">\n",
    "        <h1>Excel File Contents</h1>\n",
    "        {{ table_html|safe }}\n",
    "    </div>\n",
    "</body>\n",
    "</html>\n",
    "\"\"\")\n"
   ]
  },
  {
   "cell_type": "markdown",
   "id": "1a75c408",
   "metadata": {},
   "source": [
    "### Run your Django development server using:"
   ]
  },
  {
   "cell_type": "code",
   "execution_count": null,
   "id": "5e70d8c6",
   "metadata": {},
   "outputs": [],
   "source": [
    "!python myproject/manage.py runserver"
   ]
  }
 ],
 "metadata": {
  "kernelspec": {
   "display_name": "Python (my_django_env)",
   "language": "python",
   "name": "my_django_env"
  },
  "language_info": {
   "codemirror_mode": {
    "name": "ipython",
    "version": 3
   },
   "file_extension": ".py",
   "mimetype": "text/x-python",
   "name": "python",
   "nbconvert_exporter": "python",
   "pygments_lexer": "ipython3",
   "version": "3.12.7"
  }
 },
 "nbformat": 4,
 "nbformat_minor": 5
}
