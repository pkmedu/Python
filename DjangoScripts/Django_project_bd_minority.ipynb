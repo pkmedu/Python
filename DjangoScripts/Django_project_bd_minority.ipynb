{
 "cells": [
  {
   "cell_type": "markdown",
   "id": "2cf36967",
   "metadata": {},
   "source": [
    "## Django project for Bangladesh minority videos table"
   ]
  },
  {
   "cell_type": "markdown",
   "id": "d0846c78-bb6a-497d-a81c-33a552632924",
   "metadata": {},
   "source": [
    "### 1. Basic Setup"
   ]
  },
  {
   "cell_type": "markdown",
   "id": "eb1f5b8a-fbe8-4c56-ae4a-c12d85b964ef",
   "metadata": {},
   "source": [
    "#### kernel created in a separate program\n",
    "```\n",
    "!pip install ipykernel\n",
    "```\n",
    "```\n",
    "!python -m ipykernel install \\\n",
    "    --user \\\n",
    "    --name=minority_django_env \\\n",
    "    --display-name \"Python (minority_django_env)\"\n",
    "```\n"
   ]
  },
  {
   "cell_type": "markdown",
   "id": "d06a27a6-5e86-4a1f-8527-b989d8b5b8be",
   "metadata": {},
   "source": [
    "#### Activate a new environment (already done at the terminal)\n",
    "```\n",
    "(base) C:\\Users\\pmuhuri\\AppData\\Local\\anconda3\\envs>conda info --envs\n",
    "(base) C:\\Users\\pmuhuri\\AppData\\Local\\anconda3\\envs>conda create -n bd_minority_videos \n",
    "```\n",
    "#### conda environments:\n",
    "#\n",
    "```\n",
    "                       C:\\Users\\pmuhuri\\AppData\\Local\\R-MINI~1\n",
    "                       C:\\Users\\pmuhuri\\AppData\\Local\\R-MINI~1\\envs\\r-reticulate\n",
    "base                 * C:\\Users\\pmuhuri\\AppData\\Local\\anaconda3\n",
    "bd_minority_videos     C:\\Users\\pmuhuri\\AppData\\Local\\anaconda3\\envs\\bd_minority_videos\n",
    "my_django_env          C:\\Users\\pmuhuri\\AppData\\Local\\anaconda3\\envs\\my_django_env\n",
    "                       C:\\Users\\pmuhuri\\AppData\\Local\\r-miniconda\\envs\\r-reticulate\n",
    "```  "
   ]
  },
  {
   "cell_type": "markdown",
   "id": "0a4fffd8-0b07-4fda-be56-3a0f10109809",
   "metadata": {},
   "source": [
    "#### Navigate to this folder"
   ]
  },
  {
   "cell_type": "code",
   "execution_count": 3,
   "id": "ce54d2ad-9cfc-4ede-89a6-6a63913b6a1d",
   "metadata": {},
   "outputs": [
    {
     "name": "stdout",
     "output_type": "stream",
     "text": [
      "C:\\Users\\pmuhuri\\AppData\\Local\\anaconda3\\envs\\bd_minority_videos\n"
     ]
    }
   ],
   "source": [
    "%cd C:\\Users\\pmuhuri\\AppData\\Local\\anaconda3\\envs\\bd_minority_videos"
   ]
  },
  {
   "cell_type": "markdown",
   "id": "af2cab32",
   "metadata": {},
   "source": [
    "### 2. Install Django (already done at the terminal)\n",
    "\n",
    "Once your environment is activated, install Django using pip (**already done using CLI**):\n",
    "```\n",
    "(base) C:\\Users\\pmuhuri\\AppData\\Local\\anaconda3\\envs\\bd_minority_videos>pip install django\n",
    "django-admin --version\n",
    "```"
   ]
  },
  {
   "cell_type": "markdown",
   "id": "48bd9e8d",
   "metadata": {},
   "source": [
    "### 3. Setup the Django Project"
   ]
  },
  {
   "cell_type": "markdown",
   "id": "ff02851c-f081-4a61-a9a2-ddf598c04708",
   "metadata": {},
   "source": [
    "#### Already done\n",
    "```\n",
    "mkdir C:\\Users\\pmuhuri\\DjangoProjects\\bdmsite\n",
    "```"
   ]
  },
  {
   "cell_type": "code",
   "execution_count": 5,
   "id": "f61995a3-be67-4f9a-a54d-fa5dd875cebe",
   "metadata": {},
   "outputs": [
    {
     "name": "stdout",
     "output_type": "stream",
     "text": [
      "C:\\Users\\pmuhuri\\DjangoProjects\\bdmsite\n"
     ]
    }
   ],
   "source": [
    "%cd C:\\Users\\pmuhuri\\DjangoProjects\\bdmsite"
   ]
  },
  {
   "cell_type": "markdown",
   "id": "a4294dba-946b-4e76-8dbb-65813f59d326",
   "metadata": {},
   "source": [
    "#### Already done\n",
    "```\n",
    "!django-admin startproject bdmsite .\n",
    "```"
   ]
  },
  {
   "cell_type": "code",
   "execution_count": 5,
   "id": "1d67fae2-df5f-4d1d-8932-2dd87f8271b3",
   "metadata": {},
   "outputs": [
    {
     "name": "stdout",
     "output_type": "stream",
     "text": [
      "C:\\Users\\pmuhuri\\DjangoProjects\\bdmsite\n"
     ]
    }
   ],
   "source": [
    "%cd C:\\Users\\pmuhuri\\DjangoProjects\\bdmsite"
   ]
  },
  {
   "cell_type": "markdown",
   "id": "9ce27800-caf9-4bd1-a176-5614eb6cdd15",
   "metadata": {},
   "source": [
    "#### Already done\n",
    "```\n",
    "!python manage.py startapp bdm_videos\n",
    "```"
   ]
  },
  {
   "cell_type": "code",
   "execution_count": 10,
   "id": "291d3e7b-27d7-4819-98d7-c0e29f0a9ba4",
   "metadata": {},
   "outputs": [
    {
     "data": {
      "text/plain": [
       "['bdmsite', 'bdm_videos', 'combined_all.html', 'manage.py']"
      ]
     },
     "execution_count": 10,
     "metadata": {},
     "output_type": "execute_result"
    }
   ],
   "source": [
    "import os\n",
    "os.listdir()"
   ]
  },
  {
   "cell_type": "code",
   "execution_count": 12,
   "id": "117a77fd-4bf7-4d5c-a2e6-11477605bec1",
   "metadata": {},
   "outputs": [
    {
     "name": "stdout",
     "output_type": "stream",
     "text": [
      "Folder structure of: C:\\Users\\pmuhuri\\DjangoProjects\\bdmsite\n",
      "\n",
      "📁 bdm_videos\n",
      "    📄 admin.py\n",
      "    📄 apps.py\n",
      "    📁 migrations\n",
      "        📄 __init__.py\n",
      "    📄 models.py\n",
      "    📁 templates\n",
      "        📁 bdm_videos\n",
      "            📄 display_table.html\n",
      "    📄 tests.py\n",
      "    📄 urls.py\n",
      "    📄 views.py\n",
      "📁 bdmsite\n",
      "    📄 __init__.py\n",
      "    📄 asgi.py\n",
      "    📄 settings.py\n",
      "    📄 urls.py\n",
      "    📄 wsgi.py\n",
      "📄 combined_all.html\n",
      "📄 manage.py\n"
     ]
    }
   ],
   "source": [
    "import os\n",
    "\n",
    "def print_folder_structure(start_path, indent=''):\n",
    "    try:\n",
    "        items = sorted(os.listdir(start_path))\n",
    "    except PermissionError:\n",
    "        print(indent + '[Permission Denied]')\n",
    "        return\n",
    "\n",
    "    for item in items:\n",
    "        item_path = os.path.join(start_path, item)\n",
    "        if os.path.isdir(item_path):\n",
    "            print(f\"{indent}📁 {item}\")\n",
    "            print_folder_structure(item_path, indent + '    ')\n",
    "        else:\n",
    "            print(f\"{indent}📄 {item}\")\n",
    "\n",
    "# Change this path if needed\n",
    "root_directory = r'C:\\Users\\pmuhuri\\DjangoProjects\\bdmsite'\n",
    "print(f\"Folder structure of: {root_directory}\\n\")\n",
    "print_folder_structure(root_directory)"
   ]
  },
  {
   "cell_type": "markdown",
   "id": "5d411356-3b1b-4671-b6e3-1b16411e32ce",
   "metadata": {},
   "source": [
    "\n",
    "#### Additional description of the folder structure: \n",
    "#### C:\\Users\\pmuhuri\\DjangoProjects\\bdmsite. \n",
    "\n",
    "Here's a breakdown of the organization:\n",
    "\n",
    "#### Project Root (bdmsite)\n",
    "* manage.py: Entry point to manage the Django project via CLI.\n",
    "\n",
    "* combined_all.html: Likely a global template not confined to any app.\n",
    "\n",
    "#### Project Package: bdmsite (Notes)\n",
    "\n",
    "This is the main Django project configuration package.\n",
    "\n",
    "* __init__.py: Marks this directory as a Python package.\n",
    "\n",
    "* asgi.py / wsgi.py: Entry points for ASGI/WSGI-compatible web servers.\n",
    "\n",
    "* settings.py: Global settings/configuration for the Django project.\n",
    "\n",
    "* urls.py: Root URL configuration that includes routing to app-specific urls.py.\n",
    "\n",
    "#### App: bdm_videos\n",
    "#### A Django app within the project.\n",
    "\n",
    "* admin.py: Registers models with Django admin.\n",
    "\n",
    "* apps.py: Configuration for the app.\n",
    "\n",
    "* migrations/: Tracks database migrations.\n",
    "\n",
    "* __init__.py: Indicates the folder is a Python package.\n",
    "\n",
    "* models.py: Contains Django models (database structure).\n",
    "\n",
    "* templates/bdm_videos/display_table.html: App-specific template for rendering data.\n",
    "\n",
    "* tests.py: Unit tests for the app.\n",
    "\n",
    "* urls.py: App-specific URL routing.\n",
    "\n",
    "* views.py: Logic to handle HTTP requests and return responses.\n",
    "\n"
   ]
  },
  {
   "cell_type": "markdown",
   "id": "ea92ae87-9d33-4a91-a041-3a2c48d245f3",
   "metadata": {},
   "source": [
    "#### Create the database tables"
   ]
  },
  {
   "cell_type": "code",
   "execution_count": null,
   "id": "feabbce7-6734-476d-b0b2-54981ed34c8b",
   "metadata": {},
   "outputs": [],
   "source": [
    "!python manage.py makemigrations videos"
   ]
  },
  {
   "cell_type": "markdown",
   "id": "81537e1f",
   "metadata": {},
   "source": [
    "### 4. Run the Development Server\n",
    "\n",
    "After creating your Django project, navigate to the project folder and run (**yet to be done**):\n",
    "\n",
    "```\n",
    "python manage.py runserver\n",
    "```\n",
    "\n",
    "You should see output indicating that the server is running. Open your browser and go to `http://127.0.0.1:8000/` to view the Django welcome page.\n"
   ]
  },
  {
   "cell_type": "code",
   "execution_count": 26,
   "id": "c1711fe5-9f7c-481b-bae4-44b1e52cb9ab",
   "metadata": {},
   "outputs": [
    {
     "name": "stdout",
     "output_type": "stream",
     "text": [
      "@echo off\n",
      "REM Set working directory to project root\n",
      "cd /d C:\\Users\\pmuhuri\\DjangoProjects\\bdmsite\n",
      "\n",
      "REM Initialize Conda\n",
      "CALL C:\\Users\\pmuhuri\\AppData\\Local\\anaconda3\\Scripts\\activate.bat\n",
      "\n",
      "REM Activate your Django environment\n",
      "CALL conda activate minority_django_env\n",
      "\n",
      "REM OPTIONAL: Run database migrations\n",
      "python manage.py migrate\n",
      "\n",
      "REM OPTIONAL: Create a superuser (uncomment if needed)\n",
      "REM python manage.py createsuperuser\n",
      "\n",
      "REM Launch the Django development server\n",
      "start http://127.0.0.1:8000/\n",
      "python manage.py runserver\n",
      "\n",
      "REM Keep the window open after the server stops\n",
      "pause\n",
      "\n"
     ]
    }
   ],
   "source": [
    "# Open the SAS configuration file in read mode\n",
    "fd = open(r'C:\\Python\\DjangoScripts\\run_bdm.bat')\n",
    "# Read the entire content of the file and print it to the console\n",
    "print(fd.read())\n",
    "# Close the file to free up system resources\n",
    "fd.close()"
   ]
  },
  {
   "cell_type": "code",
   "execution_count": null,
   "id": "307aabad-99df-47c4-8b8d-44261fac54f4",
   "metadata": {},
   "outputs": [],
   "source": []
  }
 ],
 "metadata": {
  "kernelspec": {
   "display_name": "Python (minority_django_env)",
   "language": "python",
   "name": "minority_django_env"
  },
  "language_info": {
   "codemirror_mode": {
    "name": "ipython",
    "version": 3
   },
   "file_extension": ".py",
   "mimetype": "text/x-python",
   "name": "python",
   "nbconvert_exporter": "python",
   "pygments_lexer": "ipython3",
   "version": "3.12.7"
  }
 },
 "nbformat": 4,
 "nbformat_minor": 5
}
