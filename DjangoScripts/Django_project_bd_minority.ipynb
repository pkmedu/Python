{
 "cells": [
  {
   "cell_type": "markdown",
   "id": "d06a27a6-5e86-4a1f-8527-b989d8b5b8be",
   "metadata": {},
   "source": [
    "#### Activate a new environment (already done at the terminal)\n",
    "```\n",
    "(base) C:\\Users\\pmuhuri\\AppData\\Local\\anconda3\\envs>conda info --envs\n",
    "(base) C:\\Users\\pmuhuri\\AppData\\Local\\anconda3\\envs>conda create -n bd_minority_videos \n",
    "```\n",
    "#### conda environments:\n",
    "#\n",
    "```\n",
    "                       C:\\Users\\pmuhuri\\AppData\\Local\\R-MINI~1\n",
    "                       C:\\Users\\pmuhuri\\AppData\\Local\\R-MINI~1\\envs\\r-reticulate\n",
    "base                 * C:\\Users\\pmuhuri\\AppData\\Local\\anaconda3\n",
    "bd_minority_videos     C:\\Users\\pmuhuri\\AppData\\Local\\anaconda3\\envs\\bd_minority_videos\n",
    "my_django_env          C:\\Users\\pmuhuri\\AppData\\Local\\anaconda3\\envs\\my_django_env\n",
    "                       C:\\Users\\pmuhuri\\AppData\\Local\\r-miniconda\\envs\\r-reticulate\n",
    "```  "
   ]
  },
  {
   "cell_type": "markdown",
   "id": "0a4fffd8-0b07-4fda-be56-3a0f10109809",
   "metadata": {},
   "source": [
    "#### Navigate to this folder"
   ]
  },
  {
   "cell_type": "code",
   "execution_count": null,
   "id": "ce54d2ad-9cfc-4ede-89a6-6a63913b6a1d",
   "metadata": {},
   "outputs": [],
   "source": [
    "%cd C:\\Users\\pmuhuri\\AppData\\Local\\anaconda3\\envs\\bd_minority_videos"
   ]
  },
  {
   "cell_type": "markdown",
   "id": "af2cab32",
   "metadata": {},
   "source": [
    "### 2. Install Django (already done at the terminal)\n",
    "\n",
    "Once your environment is activated, install Django using pip (**already done using CLI**):\n",
    "```\n",
    "(base) C:\\Users\\pmuhuri\\AppData\\Local\\anaconda3\\envs\\bd_minority_videos>pip install django\n",
    "django-admin --version\n",
    "```"
   ]
  },
  {
   "cell_type": "markdown",
   "id": "48bd9e8d",
   "metadata": {},
   "source": [
    "### 3. Setup the Django Project"
   ]
  },
  {
   "cell_type": "markdown",
   "id": "ff02851c-f081-4a61-a9a2-ddf598c04708",
   "metadata": {},
   "source": [
    "#### Already done\n",
    "```\n",
    "mkdir C:\\Users\\pmuhuri\\DjangoProjects\\bdmsite\n",
    "```"
   ]
  },
  {
   "cell_type": "code",
   "execution_count": 1,
   "id": "f61995a3-be67-4f9a-a54d-fa5dd875cebe",
   "metadata": {},
   "outputs": [
    {
     "name": "stdout",
     "output_type": "stream",
     "text": [
      "C:\\Users\\pmuhuri\\DjangoProjects\\bdmsite\n"
     ]
    }
   ],
   "source": [
    "%cd C:\\Users\\pmuhuri\\DjangoProjects\\bdmsite"
   ]
  },
  {
   "cell_type": "markdown",
   "id": "a4294dba-946b-4e76-8dbb-65813f59d326",
   "metadata": {},
   "source": [
    "#### Already done\n",
    "```\n",
    "!django-admin startproject bdmsite .\n",
    "```"
   ]
  },
  {
   "cell_type": "code",
   "execution_count": null,
   "id": "1d67fae2-df5f-4d1d-8932-2dd87f8271b3",
   "metadata": {},
   "outputs": [],
   "source": [
    "%cd C:\\Users\\pmuhuri\\DjangoProjects\\bdmsite"
   ]
  },
  {
   "cell_type": "markdown",
   "id": "9ce27800-caf9-4bd1-a176-5614eb6cdd15",
   "metadata": {},
   "source": [
    "#### Already done\n",
    "```\n",
    "!python manage.py startapp bdm_videos\n",
    "```"
   ]
  },
  {
   "cell_type": "code",
   "execution_count": 3,
   "id": "291d3e7b-27d7-4819-98d7-c0e29f0a9ba4",
   "metadata": {},
   "outputs": [
    {
     "data": {
      "text/plain": [
       "['bdmsite', 'bdm_videos', 'combined_all.html', 'db.sqlite3', 'manage.py']"
      ]
     },
     "execution_count": 3,
     "metadata": {},
     "output_type": "execute_result"
    }
   ],
   "source": [
    "import os\n",
    "os.listdir()"
   ]
  },
  {
   "cell_type": "code",
   "execution_count": 5,
   "id": "117a77fd-4bf7-4d5c-a2e6-11477605bec1",
   "metadata": {},
   "outputs": [
    {
     "name": "stdout",
     "output_type": "stream",
     "text": [
      "Folder structure of: C:\\Users\\pmuhuri\\DjangoProjects\\bdmsite\n",
      "\n",
      "📁 bdm_videos\n",
      "    📁 __pycache__\n",
      "        📄 admin.cpython-312.pyc\n",
      "        📄 apps.cpython-312.pyc\n",
      "        📄 models.cpython-312.pyc\n",
      "        📄 urls.cpython-312.pyc\n",
      "        📄 views.cpython-312.pyc\n",
      "    📄 admin.py\n",
      "    📄 apps.py\n",
      "    📁 migrations\n",
      "        📄 __init__.py\n",
      "        📁 __pycache__\n",
      "            📄 __init__.cpython-312.pyc\n",
      "    📄 models.py\n",
      "    📁 templates\n",
      "        📁 bdm_videos\n",
      "            📄 display_table.html\n",
      "    📄 tests.py\n",
      "    📄 urls.py\n",
      "    📄 views.py\n",
      "📁 bdmsite\n",
      "    📄 __init__.py\n",
      "    📁 __pycache__\n",
      "        📄 __init__.cpython-312.pyc\n",
      "        📄 settings.cpython-312.pyc\n",
      "        📄 urls.cpython-312.pyc\n",
      "        📄 wsgi.cpython-312.pyc\n",
      "    📄 asgi.py\n",
      "    📄 settings.py\n",
      "    📄 urls.py\n",
      "    📄 wsgi.py\n",
      "📄 combined_all.html\n",
      "📄 db.sqlite3\n",
      "📄 manage.py\n"
     ]
    }
   ],
   "source": [
    "import os\n",
    "\n",
    "def print_folder_structure(start_path, indent=''):\n",
    "    try:\n",
    "        items = sorted(os.listdir(start_path))\n",
    "    except PermissionError:\n",
    "        print(indent + '[Permission Denied]')\n",
    "        return\n",
    "\n",
    "    for item in items:\n",
    "        item_path = os.path.join(start_path, item)\n",
    "        if os.path.isdir(item_path):\n",
    "            print(f\"{indent}📁 {item}\")\n",
    "            print_folder_structure(item_path, indent + '    ')\n",
    "        else:\n",
    "            print(f\"{indent}📄 {item}\")\n",
    "\n",
    "# Change this path if needed\n",
    "root_directory = r'C:\\Users\\pmuhuri\\DjangoProjects\\bdmsite'\n",
    "print(f\"Folder structure of: {root_directory}\\n\")\n",
    "print_folder_structure(root_directory)"
   ]
  },
  {
   "cell_type": "code",
   "execution_count": 8,
   "id": "bf0be80d-f239-427d-9150-9c2917ed26d2",
   "metadata": {},
   "outputs": [
    {
     "name": "stdout",
     "output_type": "stream",
     "text": [
      "\n",
      "Contents of: C:\\Users\\pmuhuri\\DjangoProjects\\bdmsite\\manage.py\n",
      "------------------------------------------------------------\n",
      "#!/usr/bin/env python\n",
      "\"\"\"Django's command-line utility for administrative tasks.\"\"\"\n",
      "import os\n",
      "import sys\n",
      "\n",
      "\n",
      "def main():\n",
      "    \"\"\"Run administrative tasks.\"\"\"\n",
      "    os.environ.setdefault(\"DJANGO_SETTINGS_MODULE\", \"bdmsite.settings\")\n",
      "    try:\n",
      "        from django.core.management import execute_from_command_line\n",
      "    except ImportError as exc:\n",
      "        raise ImportError(\n",
      "            \"Couldn't import Django. Are you sure it's installed and \"\n",
      "            \"available on your PYTHONPATH environment variable? Did you \"\n",
      "            \"forget to activate a virtual environment?\"\n",
      "        ) from exc\n",
      "    execute_from_command_line(sys.argv)\n",
      "\n",
      "\n",
      "if __name__ == \"__main__\":\n",
      "    main()\n",
      "\n"
     ]
    }
   ],
   "source": [
    "# Print the content of key Django project files\n",
    "\n",
    "file_paths = [\n",
    "    r'C:\\Users\\pmuhuri\\DjangoProjects\\bdmsite\\manage.py'    \n",
    "]\n",
    "\n",
    "for path in file_paths:\n",
    "    print(f\"\\nContents of: {path}\\n\" + \"-\"*60)\n",
    "    try:\n",
    "        with open(path, 'r') as fd:\n",
    "            print(fd.read())\n",
    "    except FileNotFoundError:\n",
    "        print(\"File not found.\")\n",
    "    except Exception as e:\n",
    "        print(f\"Error reading file: {e}\")\n"
   ]
  },
  {
   "cell_type": "markdown",
   "id": "ea92ae87-9d33-4a91-a041-3a2c48d245f3",
   "metadata": {},
   "source": [
    "#### Create the database tables (Not required, not done)"
   ]
  },
  {
   "cell_type": "markdown",
   "id": "528fac93-66b2-4c5d-a8b1-5429b5b7c248",
   "metadata": {},
   "source": [
    "```\n",
    "!python manage.py makemigrations videos\n",
    "```"
   ]
  },
  {
   "cell_type": "markdown",
   "id": "81537e1f",
   "metadata": {},
   "source": [
    "### 4. Run the Development Server\n",
    "\n",
    "After creating your Django project, navigate to the project folder and run (**yet to be done**):\n",
    "\n",
    "```\n",
    "python manage.py runserver\n",
    "```\n",
    "\n",
    "You should see output indicating that the server is running. Open your browser and go to `http://127.0.0.1:8000/` to view the Django welcome page.\n"
   ]
  },
  {
   "cell_type": "code",
   "execution_count": 11,
   "id": "c1711fe5-9f7c-481b-bae4-44b1e52cb9ab",
   "metadata": {},
   "outputs": [
    {
     "name": "stdout",
     "output_type": "stream",
     "text": [
      "@echo off\n",
      "REM === Initialize Conda ===\n",
      "CALL C:\\Users\\pmuhuri\\AppData\\Local\\anaconda3\\Scripts\\activate.bat\n",
      "\n",
      "REM === Activate Django Conda Environment ===\n",
      "cd /d C:\\Users\\pmuhuri\\AppData\\Local\\anaconda3\\envs\\bd_minority_videos\n",
      "CALL conda activate bd_minority_videos\n",
      "\n",
      "REM CALL pip install django\n",
      "\n",
      "REM === Change to Django Project Root ===\n",
      "cd /d C:\\Users\\pmuhuri\\DjangoProjects\\bdmsite\n",
      "\n",
      "REM === Apply Migrations ===\n",
      "python manage.py migrate\n",
      "\n",
      "REM === OPTIONAL: Create a Superuser ===\n",
      "REM python manage.py createsuperuser\n",
      "\n",
      "REM === Launch Dev Server in Browser ===\n",
      "start http://127.0.0.1:8000/\n",
      "\n",
      "REM === Run Django Development Server ===\n",
      "python manage.py runserver\n",
      "\n",
      "REM === Keep CMD Window Open After Shutdown ===\n",
      "pause\n",
      "\n"
     ]
    }
   ],
   "source": [
    "# Open the SAS configuration file in read mode\n",
    "fd = open(r'C:\\Python\\DjangoScripts\\run_bdm.bat')\n",
    "# Read the entire content of the file and print it to the console\n",
    "print(fd.read())\n",
    "# Close the file to free up system resources\n",
    "fd.close()"
   ]
  },
  {
   "cell_type": "code",
   "execution_count": null,
   "id": "307aabad-99df-47c4-8b8d-44261fac54f4",
   "metadata": {},
   "outputs": [],
   "source": []
  }
 ],
 "metadata": {
  "kernelspec": {
   "display_name": "Python (minority_django_env)",
   "language": "python",
   "name": "minority_django_env"
  },
  "language_info": {
   "codemirror_mode": {
    "name": "ipython",
    "version": 3
   },
   "file_extension": ".py",
   "mimetype": "text/x-python",
   "name": "python",
   "nbconvert_exporter": "python",
   "pygments_lexer": "ipython3",
   "version": "3.12.7"
  }
 },
 "nbformat": 4,
 "nbformat_minor": 5
}
