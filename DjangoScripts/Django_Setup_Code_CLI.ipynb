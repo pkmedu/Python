{
 "cells": [
  {
   "cell_type": "markdown",
   "id": "2cf36967",
   "metadata": {},
   "source": [
    "# Django Setup in Conda Environment"
   ]
  },
  {
   "cell_type": "markdown",
   "id": "ede0e727",
   "metadata": {},
   "source": [
    "## 1. Create and Activate Conda Environment\n",
    "\n",
    "We use Python 3.12 and create a virtual environment for Django (**already done using CLI**):\n",
    "```\n",
    "conda create -n my_django_env python=3.12\n",
    "conda activate my_django_env\n",
    "```"
   ]
  },
  {
   "cell_type": "markdown",
   "id": "af2cab32",
   "metadata": {},
   "source": [
    "## 2. Install Django\n",
    "\n",
    "Once your environment is activated, install Django using pip (**already done using CLI**):\n",
    "\n",
    "```\n",
    "pip install django\n",
    "pip install django\n",
    "django-admin --version\n",
    "```"
   ]
  },
  {
   "cell_type": "markdown",
   "id": "48bd9e8d",
   "metadata": {},
   "source": [
    "## 3. Create a Django Project\n",
    "\n",
    "Choose a directory and run (**already done using CLI**):\n",
    "\n",
    "```\n",
    "mkdir C:\\Users\\pmuhuri\\DjangoProjects\\mysite\n",
    "cd C:\\Users\\pmuhuri\\DjangoProjects\\mysite\n",
    "django-admin startproject mysite .\n",
    "```"
   ]
  },
  {
   "cell_type": "markdown",
   "id": "81537e1f",
   "metadata": {},
   "source": [
    "## 4. Run the Development Server\n",
    "\n",
    "After creating your Django project, navigate to the project folder and run (**yet to be done**):\n",
    "\n",
    "```\n",
    "python manage.py runserver\n",
    "```\n",
    "\n",
    "You should see output indicating that the server is running. Open your browser and go to `http://127.0.0.1:8000/` to view the Django welcome page.\n"
   ]
  },
  {
   "cell_type": "markdown",
   "id": "5c8f9864",
   "metadata": {},
   "source": [
    "## 5. Create a Django App\n",
    "\n",
    "Inside your project directory, you can create an app using (**yet to be done**):\n",
    "\n",
    "```\n",
    "python manage.py startapp myapp\n",
    "```\n",
    "\n",
    "This creates a folder `myapp` with Django boilerplate files for your application.\n"
   ]
  }
 ],
 "metadata": {
  "kernelspec": {
   "display_name": "Python (my_django_env)",
   "language": "python",
   "name": "my_django_env"
  },
  "language_info": {
   "codemirror_mode": {
    "name": "ipython",
    "version": 3
   },
   "file_extension": ".py",
   "mimetype": "text/x-python",
   "name": "python",
   "nbconvert_exporter": "python",
   "pygments_lexer": "ipython3",
   "version": "3.12.7"
  }
 },
 "nbformat": 4,
 "nbformat_minor": 5
}
