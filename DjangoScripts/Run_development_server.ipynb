{
 "cells": [
  {
   "cell_type": "markdown",
   "id": "0273aeb6-9ddd-4276-bbfa-cd681c2acf7a",
   "metadata": {},
   "source": [
    "### Run development server using the Django project created earlier"
   ]
  },
  {
   "cell_type": "code",
   "execution_count": 1,
   "id": "f8ec9891-cfaa-494f-b6fc-7a49dccdac08",
   "metadata": {},
   "outputs": [
    {
     "name": "stdout",
     "output_type": "stream",
     "text": [
      "C:\\Users\\pmuhuri\\AppData\\Local\\anaconda3\\envs\\my_django_env\n"
     ]
    }
   ],
   "source": [
    "%cd C:\\Users\\pmuhuri\\AppData\\Local\\anaconda3\\envs\\my_django_env"
   ]
  },
  {
   "cell_type": "code",
   "execution_count": 3,
   "id": "bd5e99c5-e84b-4106-86d4-9023229c7694",
   "metadata": {},
   "outputs": [
    {
     "name": "stdout",
     "output_type": "stream",
     "text": [
      "Conda activated\n"
     ]
    }
   ],
   "source": [
    "!conda activate my_django_env\n",
    "print(\"Conda activated\")"
   ]
  },
  {
   "cell_type": "markdown",
   "id": "240f8052-6881-40f2-b0d2-e138490be797",
   "metadata": {},
   "source": [
    "##### Since the project was successfully created earlier, I have now changed it to the root directory, which has a folder named 'myproject'"
   ]
  },
  {
   "cell_type": "code",
   "execution_count": 11,
   "id": "94a38dee-80a0-4f45-86f2-239628e66a7b",
   "metadata": {},
   "outputs": [
    {
     "name": "stdout",
     "output_type": "stream",
     "text": [
      "C:\\Users\\pmuhuri\\DjangoProjects\\newsite\n"
     ]
    }
   ],
   "source": [
    "%cd C:/Users/pmuhuri/DjangoProjects/newsite"
   ]
  },
  {
   "cell_type": "code",
   "execution_count": 7,
   "id": "2d4009b5-2ae3-4b20-bd04-86b55e26a7b6",
   "metadata": {},
   "outputs": [
    {
     "data": {
      "text/plain": [
       "['data', 'db.sqlite3', 'excelapp', 'manage.py', 'myproject']"
      ]
     },
     "execution_count": 7,
     "metadata": {},
     "output_type": "execute_result"
    }
   ],
   "source": [
    "import os\n",
    "os.listdir()"
   ]
  },
  {
   "cell_type": "code",
   "execution_count": null,
   "id": "16dc15e3-8caa-429a-9d14-d19df99235f3",
   "metadata": {},
   "outputs": [],
   "source": [
    "import os\n",
    "\n",
    "def print_folder_structure(start_path, indent=''):\n",
    "    try:\n",
    "        items = sorted(os.listdir(start_path))\n",
    "    except PermissionError:\n",
    "        print(indent + '[Permission Denied]')\n",
    "        return\n",
    "\n",
    "    for item in items:\n",
    "        item_path = os.path.join(start_path, item)\n",
    "        if os.path.isdir(item_path):\n",
    "            print(f\"{indent}📁 {item}\")\n",
    "            print_folder_structure(item_path, indent + '    ')\n",
    "        else:\n",
    "            print(f\"{indent}📄 {item}\")\n",
    "\n",
    "# Change this path if needed\n",
    "root_directory = r'C\\Users\\pmuhuri\\DjangoProjects\\newsite'\n",
    "print(f\"Folder structure of: {root_directory}\\n\")\n",
    "print_folder_structure(root_directory)\n"
   ]
  },
  {
   "cell_type": "code",
   "execution_count": 11,
   "id": "e0340430-bd6c-4b1a-b797-da8f51a4fb09",
   "metadata": {},
   "outputs": [
    {
     "name": "stdout",
     "output_type": "stream",
     "text": [
      "C:\\Users\\pmuhuri\\DjangoProjects\\newsite\\myproject\n"
     ]
    }
   ],
   "source": [
    "%cd C:/Users/pmuhuri/DjangoProjects/newsite/myproject"
   ]
  },
  {
   "cell_type": "code",
   "execution_count": 13,
   "id": "4479337a-7e1c-4cd9-9192-70aa99ba54ff",
   "metadata": {},
   "outputs": [
    {
     "data": {
      "text/plain": [
       "['asgi.py', 'settings.py', 'urls.py', 'wsgi.py', '__init__.py', '__pycache__']"
      ]
     },
     "execution_count": 13,
     "metadata": {},
     "output_type": "execute_result"
    }
   ],
   "source": [
    "import os\n",
    "os.listdir()"
   ]
  },
  {
   "cell_type": "code",
   "execution_count": 15,
   "id": "ca5a848b-0f52-4115-b5b0-88f8b9d32d99",
   "metadata": {},
   "outputs": [
    {
     "name": "stdout",
     "output_type": "stream",
     "text": [
      "Folder structure of: C:\\Users\\pmuhuri\\DjangoProjects\\newsite\\myproject\n",
      "\n",
      "📄 __init__.py\n",
      "📁 __pycache__\n",
      "    📄 __init__.cpython-312.pyc\n",
      "    📄 settings.cpython-312.pyc\n",
      "    📄 urls.cpython-312.pyc\n",
      "    📄 wsgi.cpython-312.pyc\n",
      "📄 asgi.py\n",
      "📄 settings.py\n",
      "📄 urls.py\n",
      "📄 wsgi.py\n"
     ]
    }
   ],
   "source": [
    "import os\n",
    "\n",
    "def print_folder_structure(start_path, indent=''):\n",
    "    try:\n",
    "        items = sorted(os.listdir(start_path))\n",
    "    except PermissionError:\n",
    "        print(indent + '[Permission Denied]')\n",
    "        return\n",
    "\n",
    "    for item in items:\n",
    "        item_path = os.path.join(start_path, item)\n",
    "        if os.path.isdir(item_path):\n",
    "            print(f\"{indent}📁 {item}\")\n",
    "            print_folder_structure(item_path, indent + '    ')\n",
    "        else:\n",
    "            print(f\"{indent}📄 {item}\")\n",
    "\n",
    "# Change this path if needed\n",
    "root_directory = r'C:\\Users\\pmuhuri\\DjangoProjects\\newsite\\myproject'\n",
    "print(f\"Folder structure of: {root_directory}\\n\")\n",
    "print_folder_structure(root_directory)\n"
   ]
  },
  {
   "cell_type": "code",
   "execution_count": 12,
   "id": "02287801-7e7a-4280-bcad-dfae4c40e2bd",
   "metadata": {},
   "outputs": [
    {
     "name": "stdout",
     "output_type": "stream",
     "text": [
      "\n",
      "Contents of: C:\\Users\\pmuhuri\\DjangoProjects\\newsite\\manage.py\n",
      "------------------------------------------------------------\n",
      "#!/usr/bin/env python\n",
      "\"\"\"Django's command-line utility for administrative tasks.\"\"\"\n",
      "import os\n",
      "import sys\n",
      "\n",
      "\n",
      "def main():\n",
      "    \"\"\"Run administrative tasks.\"\"\"\n",
      "    os.environ.setdefault(\"DJANGO_SETTINGS_MODULE\", \"myproject.settings\")\n",
      "    try:\n",
      "        from django.core.management import execute_from_command_line\n",
      "    except ImportError as exc:\n",
      "        raise ImportError(\n",
      "            \"Couldn't import Django. Are you sure it's installed and \"\n",
      "            \"available on your PYTHONPATH environment variable? Did you \"\n",
      "            \"forget to activate a virtual environment?\"\n",
      "        ) from exc\n",
      "    execute_from_command_line(sys.argv)\n",
      "\n",
      "\n",
      "if __name__ == \"__main__\":\n",
      "    main()\n",
      "\n",
      "\n",
      "Contents of: C:\\Users\\pmuhuri\\DjangoProjects\\newsite\\excelapp\\urls.py\n",
      "------------------------------------------------------------\n",
      "# excelapp/urls.py\n",
      "from django.urls import path\n",
      "from . import views\n",
      "\n",
      "urlpatterns = [\n",
      "    path('show_excel/', views.excel_view, name='show_excel'),\n",
      "]\n",
      "\n",
      "Contents of: C:\\Users\\pmuhuri\\DjangoProjects\\newsite\\excelapp\\views.py\n",
      "------------------------------------------------------------\n",
      "# excelapp/views.py\n",
      "\n",
      "import os\n",
      "import pandas as pd\n",
      "from django.http import HttpResponse\n",
      "from django.conf import settings\n",
      "\n",
      "def excel_view(request):\n",
      "    file_path = os.path.join(settings.BASE_DIR, 'data', 'combined_all.xlsx')\n",
      "    if not os.path.exists(file_path):\n",
      "        return HttpResponse(\"Excel file not found.\", status=404)\n",
      "    df = pd.read_excel(file_path, engine='openpyxl')\n",
      "    html = df.to_html()\n",
      "    return HttpResponse(html)\n",
      "\n",
      "\n",
      "\n",
      "Contents of: C:\\Users\\pmuhuri\\DjangoProjects\\newsite\\myproject\\urls.py\n",
      "------------------------------------------------------------\n",
      "\"\"\"\n",
      "URL configuration for myproject project.\n",
      "\n",
      "The `urlpatterns` list routes URLs to views. For more information please see:\n",
      "    https://docs.djangoproject.com/en/5.2/topics/http/urls/\n",
      "Examples:\n",
      "Function views\n",
      "    1. Add an import:  from my_app import views\n",
      "    2. Add a URL to urlpatterns:  path('', views.home, name='home')\n",
      "Class-based views\n",
      "    1. Add an import:  from other_app.views import Home\n",
      "    2. Add a URL to urlpatterns:  path('', Home.as_view(), name='home')\n",
      "Including another URLconf\n",
      "    1. Import the include() function: from django.urls import include, path\n",
      "    2. Add a URL to urlpatterns:  path('blog/', include('blog.urls'))\n",
      "\"\"\"\n",
      "\n",
      "\n",
      "\n",
      "from django.contrib import admin\n",
      "from django.urls import path\n",
      "from excelapp.views import excel_view\n",
      "\n",
      "urlpatterns = [\n",
      "    path('admin/', admin.site.urls),\n",
      "    path('', excel_view, name='show_excel'),  # Root URL shows the Excel table\n",
      "]\n",
      "\n",
      "\n",
      "\n",
      "\n",
      "Contents of: C:\\Users\\pmuhuri\\DjangoProjects\\newsite\\myproject\\settings.py\n",
      "------------------------------------------------------------\n",
      "\"\"\"\n",
      "Django settings for myproject project.\n",
      "\n",
      "Generated by 'django-admin startproject' using Django 5.2.\n",
      "\n",
      "For more information on this file, see\n",
      "https://docs.djangoproject.com/en/5.2/topics/settings/\n",
      "\n",
      "For the full list of settings and their values, see\n",
      "https://docs.djangoproject.com/en/5.2/ref/settings/\n",
      "\"\"\"\n",
      "\n",
      "from pathlib import Path\n",
      "\n",
      "# Build paths inside the project like this: BASE_DIR / 'subdir'.\n",
      "BASE_DIR = Path(__file__).resolve().parent.parent\n",
      "\n",
      "\n",
      "# Quick-start development settings - unsuitable for production\n",
      "# See https://docs.djangoproject.com/en/5.2/howto/deployment/checklist/\n",
      "\n",
      "# SECURITY WARNING: keep the secret key used in production secret!\n",
      "SECRET_KEY = \"django-insecure-od3d3oo26ppxh(%t7sed24gx#6bj!9nf*a3#y6&f^3s(j$f9aq\"\n",
      "\n",
      "# SECURITY WARNING: don't run with debug turned on in production!\n",
      "DEBUG = True\n",
      "\n",
      "ALLOWED_HOSTS = []\n",
      "\n",
      "\n",
      "# Application definition\n",
      "\n",
      "INSTALLED_APPS = [\n",
      "    \"django.contrib.admin\",\n",
      "    \"django.contrib.auth\",\n",
      "    \"django.contrib.contenttypes\",\n",
      "    \"django.contrib.sessions\",\n",
      "    \"django.contrib.messages\",\n",
      "    \"django.contrib.staticfiles\",\n",
      "    \"excelapp\",\n",
      "]\n",
      "\n",
      "MIDDLEWARE = [\n",
      "    \"django.middleware.security.SecurityMiddleware\",\n",
      "    \"django.contrib.sessions.middleware.SessionMiddleware\",\n",
      "    \"django.middleware.common.CommonMiddleware\",\n",
      "    \"django.middleware.csrf.CsrfViewMiddleware\",\n",
      "    \"django.contrib.auth.middleware.AuthenticationMiddleware\",\n",
      "    \"django.contrib.messages.middleware.MessageMiddleware\",\n",
      "    \"django.middleware.clickjacking.XFrameOptionsMiddleware\",\n",
      "]\n",
      "\n",
      "ROOT_URLCONF = \"myproject.urls\"\n",
      "\n",
      "TEMPLATES = [\n",
      "    {\n",
      "        \"BACKEND\": \"django.template.backends.django.DjangoTemplates\",\n",
      "        \"DIRS\": [],\n",
      "        \"APP_DIRS\": True,\n",
      "        \"OPTIONS\": {\n",
      "            \"context_processors\": [\n",
      "                \"django.template.context_processors.request\",\n",
      "                \"django.contrib.auth.context_processors.auth\",\n",
      "                \"django.contrib.messages.context_processors.messages\",\n",
      "            ],\n",
      "        },\n",
      "    },\n",
      "]\n",
      "\n",
      "WSGI_APPLICATION = \"myproject.wsgi.application\"\n",
      "\n",
      "\n",
      "# Database\n",
      "# https://docs.djangoproject.com/en/5.2/ref/settings/#databases\n",
      "\n",
      "DATABASES = {\n",
      "    \"default\": {\n",
      "        \"ENGINE\": \"django.db.backends.sqlite3\",\n",
      "        \"NAME\": BASE_DIR / \"db.sqlite3\",\n",
      "    }\n",
      "}\n",
      "\n",
      "\n",
      "# Password validation\n",
      "# https://docs.djangoproject.com/en/5.2/ref/settings/#auth-password-validators\n",
      "\n",
      "AUTH_PASSWORD_VALIDATORS = [\n",
      "    {\n",
      "        \"NAME\": \"django.contrib.auth.password_validation.UserAttributeSimilarityValidator\",\n",
      "    },\n",
      "    {\n",
      "        \"NAME\": \"django.contrib.auth.password_validation.MinimumLengthValidator\",\n",
      "    },\n",
      "    {\n",
      "        \"NAME\": \"django.contrib.auth.password_validation.CommonPasswordValidator\",\n",
      "    },\n",
      "    {\n",
      "        \"NAME\": \"django.contrib.auth.password_validation.NumericPasswordValidator\",\n",
      "    },\n",
      "]\n",
      "\n",
      "\n",
      "# Internationalization\n",
      "# https://docs.djangoproject.com/en/5.2/topics/i18n/\n",
      "\n",
      "LANGUAGE_CODE = \"en-us\"\n",
      "\n",
      "TIME_ZONE = \"UTC\"\n",
      "\n",
      "USE_I18N = True\n",
      "\n",
      "USE_TZ = True\n",
      "\n",
      "\n",
      "# Static files (CSS, JavaScript, Images)\n",
      "# https://docs.djangoproject.com/en/5.2/howto/static-files/\n",
      "\n",
      "STATIC_URL = \"static/\"\n",
      "\n",
      "# Default primary key field type\n",
      "# https://docs.djangoproject.com/en/5.2/ref/settings/#default-auto-field\n",
      "\n",
      "DEFAULT_AUTO_FIELD = \"django.db.models.BigAutoField\"\n",
      "\n"
     ]
    }
   ],
   "source": [
    "# Print the content of key Django project files\n",
    "\n",
    "file_paths = [\n",
    "    r'C:\\Users\\pmuhuri\\DjangoProjects\\newsite\\manage.py',\n",
    "    r'C:\\Users\\pmuhuri\\DjangoProjects\\newsite\\excelapp\\urls.py',\n",
    "    r'C:\\Users\\pmuhuri\\DjangoProjects\\newsite\\excelapp\\views.py',\n",
    "    r'C:\\Users\\pmuhuri\\DjangoProjects\\newsite\\myproject\\urls.py',\n",
    "    r'C:\\Users\\pmuhuri\\DjangoProjects\\newsite\\myproject\\settings.py',\n",
    "]\n",
    "\n",
    "for path in file_paths:\n",
    "    print(f\"\\nContents of: {path}\\n\" + \"-\"*60)\n",
    "    try:\n",
    "        with open(path, 'r') as fd:\n",
    "            print(fd.read())\n",
    "    except FileNotFoundError:\n",
    "        print(\"File not found.\")\n",
    "    except Exception as e:\n",
    "        print(f\"Error reading file: {e}\")\n"
   ]
  },
  {
   "cell_type": "markdown",
   "id": "ac5d3979-8268-4277-a460-d678b02669e2",
   "metadata": {},
   "source": [
    "##### I am going to the root directory (while your my_django_env environment is activated) before running the development server."
   ]
  },
  {
   "cell_type": "code",
   "execution_count": 6,
   "id": "63411d4c-b9cd-4899-9c5b-bd913f1e54e0",
   "metadata": {},
   "outputs": [
    {
     "name": "stdout",
     "output_type": "stream",
     "text": [
      "C:\\Users\\pmuhuri\\DjangoProjects\\newsite\n"
     ]
    }
   ],
   "source": [
    "%cd C:/Users/pmuhuri/DjangoProjects/newsite"
   ]
  },
  {
   "cell_type": "markdown",
   "id": "2e7ffe1b-8af2-4605-b9b2-10b88bb087b4",
   "metadata": {},
   "source": [
    "#### Run the development server:\n",
    "\n",
    "From the root directory (C:/Users/pmuhuri/DjangoProjects/newsite) where manage.py is located,\n",
    "I have tried Jupyter's! Shell command interface, which did not work. \n"
   ]
  },
  {
   "cell_type": "code",
   "execution_count": null,
   "id": "5bcfb55c-4fb0-403c-946e-c293a1e57930",
   "metadata": {},
   "outputs": [],
   "source": [
    "!python manage.py runserver"
   ]
  },
  {
   "cell_type": "markdown",
   "id": "50600e6b-5e46-49d7-af60-373f0f39aa61",
   "metadata": {},
   "source": [
    " #### Retrieve the content of run_django_server_rev2.bat. The code has worked as intended, displaying an Excel file in a webpage."
   ]
  },
  {
   "cell_type": "code",
   "execution_count": 18,
   "id": "b121ddc4-b619-43a7-b919-17d4f2027fb6",
   "metadata": {},
   "outputs": [
    {
     "name": "stdout",
     "output_type": "stream",
     "text": [
      "@echo off\n",
      "REM Set working directory to project root\n",
      "cd /d C:\\Users\\pmuhuri\\DjangoProjects\\newsite\n",
      "\n",
      "REM Initialize Conda\n",
      "CALL C:\\Users\\pmuhuri\\AppData\\Local\\anaconda3\\Scripts\\activate.bat\n",
      "\n",
      "REM Activate your Django environment\n",
      "CALL conda activate my_django_env\n",
      "\n",
      "REM OPTIONAL: Run database migrations\n",
      "python manage.py migrate\n",
      "\n",
      "REM OPTIONAL: Create a superuser (uncomment if needed)\n",
      "REM python manage.py createsuperuser\n",
      "\n",
      "REM Launch the Django development server\n",
      "start http://127.0.0.1:8000/\n",
      "python manage.py runserver\n",
      "\n",
      "REM Keep the window open after the server stops\n",
      "pause\n",
      "\n"
     ]
    }
   ],
   "source": [
    "# Open the SAS configuration file in read mode\n",
    "fd = open(r'C:\\Users\\pmuhuri\\DjangoScripts\\run_django_server_rev2.bat')\n",
    "# Read the entire content of the file and print it to the console\n",
    "print(fd.read())\n",
    "# Close the file to free up system resources\n",
    "fd.close()"
   ]
  }
 ],
 "metadata": {
  "kernelspec": {
   "display_name": "Python (my_django_env)",
   "language": "python",
   "name": "my_django_env"
  },
  "language_info": {
   "codemirror_mode": {
    "name": "ipython",
    "version": 3
   },
   "file_extension": ".py",
   "mimetype": "text/x-python",
   "name": "python",
   "nbconvert_exporter": "python",
   "pygments_lexer": "ipython3",
   "version": "3.12.7"
  }
 },
 "nbformat": 4,
 "nbformat_minor": 5
}
