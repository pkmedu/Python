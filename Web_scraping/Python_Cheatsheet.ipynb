{
 "cells": [
  {
   "cell_type": "markdown",
   "id": "d8cd7e55-1658-463f-bdd0-f3893a6613ab",
   "metadata": {},
   "source": [
    "https://github.com/gto76/python-cheatsheet#list"
   ]
  },
  {
   "cell_type": "markdown",
   "id": "c4f62726-f345-4959-ac53-93e64d0a2bca",
   "metadata": {},
   "source": [
    "1. Collections:   List, Dictionary, Set, Tuple, Range, Enumerate, Iterator, Generator.\n",
    "    2. Types:            Type, String, Regular_Exp, Format, Numbers, Combinatorics, Datetime.\n",
    "    3. Syntax:           Args, Inline, Import, Decorator, Class, Duck_Types, Enum, Exception.\n",
    "    4. System:          Exit, Print, Input, Command_Line_Arguments, Open, Path, OS_Commands.\n",
    "    5. Data:               JSON, Pickle, CSV, SQLite, Bytes, Struct, Array, Memory_View, Deque.\n",
    "    6. Advanced:     Threading, Operator, Introspection, Metaprograming, Eval, Coroutines.\n",
    "    7. Libraries:        Progress_Bar, Plot, Table, Curses, Logging, Scraping, Web, Profile,\n",
    "                                  NumPy, Image, Audio, Games, Data."
   ]
  },
  {
   "cell_type": "markdown",
   "id": "16ed972c-234a-4782-8b7f-c871f9aadc51",
   "metadata": {},
   "source": [
    "Main"
   ]
  },
  {
   "cell_type": "code",
   "execution_count": null,
   "id": "8eda500e-1561-4d81-8f58-dcaaab472581",
   "metadata": {},
   "outputs": [],
   "source": [
    "if __name__ == '__main__':     # Runs main() if file wasn't imported.\n",
    "    main()"
   ]
  },
  {
   "cell_type": "code",
   "execution_count": null,
   "id": "4d0ff417-bda1-4e3e-97e6-848ee9d8cddb",
   "metadata": {},
   "outputs": [],
   "source": [
    "<list> = <list>[<slice>]       # Or: <list>[from_inclusive : to_exclusive : ±step]\n",
    "<list>.append(<el>)            # Or: <list> += [<el>]\n",
    "<list>.extend(<collection>)    # Or: <list> += <collection>\n",
    "<list>.sort()                  # Sorts in ascending order.\n",
    "<list>.reverse()               # Reverses the list in-place.\n",
    "<list> = sorted(<collection>)  # Returns a new sorted list.\n",
    "<iter> = reversed(<list>)      # Returns reversed iterator.\n",
    "sum_of_elements  = sum(<collection>)\n",
    "elementwise_sum  = [sum(pair) for pair in zip(list_a, list_b)]\n",
    "sorted_by_second = sorted(<collection>, key=lambda el: el[1])\n",
    "sorted_by_both   = sorted(<collection>, key=lambda el: (el[1], el[0]))\n",
    "flatter_list     = list(itertools.chain.from_iterable(<list>))\n",
    "product_of_elems = functools.reduce(lambda out, el: out * el, <collection>)\n",
    "list_of_chars    = list(<str>)"
   ]
  },
  {
   "cell_type": "code",
   "execution_count": null,
   "id": "3d5f00b4-7269-4e18-821d-be767277aa48",
   "metadata": {},
   "outputs": [],
   "source": [
    "<list> = <list>[<slice>]       # Or: <list>[from_inclusive : to_exclusive : ±step]\n",
    "<list>.append(<el>)            # Or: <list> += [<el>]\n",
    "<list>.extend(<collection>)    # Or: <list> += <collection>\n",
    "<list>.sort()                  # Sorts in ascending order.\n",
    "<list>.reverse()               # Reverses the list in-place.\n",
    "<list> = sorted(<collection>)  # Returns a new sorted list.\n",
    "<iter> = reversed(<list>)      # Returns reversed iterator.\n",
    "sum_of_elements  = sum(<collection>)\n",
    "elementwise_sum  = [sum(pair) for pair in zip(list_a, list_b)]\n",
    "sorted_by_second = sorted(<collection>, key=lambda el: el[1])\n",
    "sorted_by_both   = sorted(<collection>, key=lambda el: (el[1], el[0]))\n",
    "flatter_list     = list(itertools.chain.from_iterable(<list>))\n",
    "product_of_elems = functools.reduce(lambda out, el: out * el, <collection>)\n",
    "list_of_chars    = list(<str>)"
   ]
  },
  {
   "cell_type": "markdown",
   "id": "509571ac-1bfb-4bc0-b365-f5630f6ad213",
   "metadata": {},
   "source": [
    "For details about sorted(), min() and max() see sortable.\n",
    "Module operator provides functions itemgetter() and mul() that offer the same functionality as lambda expressions above."
   ]
  },
  {
   "cell_type": "code",
   "execution_count": 1,
   "id": "1ec423ef-dca0-4751-a519-2b5cc032f3dc",
   "metadata": {},
   "outputs": [
    {
     "data": {
      "text/plain": [
       "'C:\\\\Users\\\\pmuhuri'"
      ]
     },
     "execution_count": 1,
     "metadata": {},
     "output_type": "execute_result"
    }
   ],
   "source": [
    "%pwd"
   ]
  },
  {
   "cell_type": "code",
   "execution_count": null,
   "id": "77f7b4e3-8fc9-4a9a-8b4b-a31de6ab5a7c",
   "metadata": {},
   "outputs": [],
   "source": []
  }
 ],
 "metadata": {
  "kernelspec": {
   "display_name": "Python 3 (ipykernel)",
   "language": "python",
   "name": "python3"
  },
  "language_info": {
   "codemirror_mode": {
    "name": "ipython",
    "version": 3
   },
   "file_extension": ".py",
   "mimetype": "text/x-python",
   "name": "python",
   "nbconvert_exporter": "python",
   "pygments_lexer": "ipython3",
   "version": "3.9.12"
  }
 },
 "nbformat": 4,
 "nbformat_minor": 5
}
