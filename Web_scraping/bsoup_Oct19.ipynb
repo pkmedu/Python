{
 "cells": [
  {
   "cell_type": "raw",
   "id": "acd3322f-bcdb-42dd-bc07-97cac02497a9",
   "metadata": {},
   "source": [
    "#### Automation to Extract ZIP Data File URLs from the Medical Expenditure Panel Survey Web Link\n",
    "#### Pradip K. Muhuri\n",
    "\n",
    "This program automates the scrapping of the Medical Expenditure Panel Survey’s web link https://meps.ahrq.gov/data_files/pufs/ to extract the ZIP data files’ Uniform Resource Locators (URLs).  The output of this program is an Excel Workbook with multiple worksheets containing clickable URLs grouped by data formats (e.g., SAS V9, SAS transport, Stata, Excel, and ASCII formats) for easy ZIP file downloads. "
   ]
  },
  {
   "cell_type": "code",
   "execution_count": null,
   "id": "dc95bb14-64cd-42d2-a53f-c147f60b5378",
   "metadata": {},
   "outputs": [],
   "source": [
    "\n",
    "# Step 1: List all MEPS data file URLs \n",
    "%%writefile bsoup.py\n",
    "import requests\n",
    "from bs4 import BeautifulSoup\n",
    "\n",
    "full_url_list = []\n",
    "tuple_values = 'v9.zip', 'ssp.zip', 'dta.zip', 'dat.zip', 'xlsx.zip', '/'\n",
    "def get_links(base_url):\n",
    "    response = requests.get(base_link)\n",
    "    soup = BeautifulSoup(response.text, 'html.parser')\n",
    "    tags = soup.find_all('a')\n",
    "    for tag in tags:\n",
    "        if tag.text.endswith(tuple_values):\n",
    "            href = tag.get_text()\n",
    "            full_url = base_url + href\n",
    "            if href[-1]=='/':\n",
    "                get_links(full_url)        \n",
    "            else:\n",
    "                #print(full_url)\n",
    "                full_url_list.append(full_url)\n",
    "                \n",
    "get_links('https://meps.ahrq.gov/data_files/pufs/')\n",
    "print('There are', f\"{len(full_url_list):,}\", 'Full URLs for 5 format-specific data files.')\n",
    "\n",
    "print('Listing of first 5 URLs')\n",
    "for item in full_url_list[:5]:   print(item)\n",
    "\n"
   ]
  },
  {
   "cell_type": "code",
   "execution_count": null,
   "id": "44881e9f",
   "metadata": {},
   "outputs": [],
   "source": []
  },
  {
   "cell_type": "code",
   "execution_count": 7,
   "id": "afc2c7c3-d17c-47ff-ac57-54c9d9c4b7fc",
   "metadata": {},
   "outputs": [
    {
     "data": {
      "text/plain": [
       "'C:\\\\Jupyter_Lab'"
      ]
     },
     "execution_count": 7,
     "metadata": {},
     "output_type": "execute_result"
    }
   ],
   "source": [
    "%pwd"
   ]
  }
 ],
 "metadata": {
  "kernelspec": {
   "display_name": "Python 3 (ipykernel)",
   "language": "python",
   "name": "python3"
  },
  "language_info": {
   "codemirror_mode": {
    "name": "ipython",
    "version": 3
   },
   "file_extension": ".py",
   "mimetype": "text/x-python",
   "name": "python",
   "nbconvert_exporter": "python",
   "pygments_lexer": "ipython3",
   "version": "3.9.12"
  }
 },
 "nbformat": 4,
 "nbformat_minor": 5
}
