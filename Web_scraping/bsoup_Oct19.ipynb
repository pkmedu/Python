{
 "cells": [
  {
   "cell_type": "raw",
   "id": "acd3322f-bcdb-42dd-bc07-97cac02497a9",
   "metadata": {},
   "source": [
    "#### Automation to Extract ZIP Data File URLs from the Medical Expenditure Panel Survey Web Link\n",
    "#### Pradip K. Muhuri\n",
    "\n",
    "This program automates the scrapping of the Medical Expenditure Panel Survey’s web link https://meps.ahrq.gov/data_files/pufs/ to extract the ZIP data files’ Uniform Resource Locators (URLs).  The output of this program is an Excel Workbook with multiple worksheets containing clickable URLs grouped by data formats (e.g., SAS V9, SAS transport, Stata, Excel, and ASCII formats) for easy ZIP file downloads. "
   ]
  },
  {
   "cell_type": "code",
   "execution_count": 14,
   "id": "dc95bb14-64cd-42d2-a53f-c147f60b5378",
   "metadata": {},
   "outputs": [
    {
     "name": "stdout",
     "output_type": "stream",
     "text": [
      "There are 1,349 Full URLs for five format-specific data files.\n",
      "Listing of the first 5 URLs\n",
      "https://meps.ahrq.gov/data_files/pufs/h01dat.zip\n",
      "https://meps.ahrq.gov/data_files/pufs/h036/h36dta.zip\n",
      "https://meps.ahrq.gov/data_files/pufs/h036/h36u19dat.zip\n",
      "https://meps.ahrq.gov/data_files/pufs/h036/h36u19dta.zip\n",
      "https://meps.ahrq.gov/data_files/pufs/h036/h36u19ssp.zip\n"
     ]
    }
   ],
   "source": [
    "# Step 1: List all MEPS data file URLs \n",
    "import requests\n",
    "from bs4 import BeautifulSoup\n",
    "\n",
    "full_url_list = []\n",
    "desired_part = 'v9.zip', 'ssp.zip', 'dta.zip', 'dat.zip', 'xlsx.zip', '/'\n",
    "def get_links(base_url):\n",
    "    response = requests.get(base_url)\n",
    "    soup = BeautifulSoup(response.text, 'html.parser')\n",
    "    hrefs = soup.find_all('a')\n",
    "    for href in hrefs:\n",
    "        if href.text.endswith(desired_part):\n",
    "            href_text = href.get_text()\n",
    "            full_url = base_url + href_text\n",
    "            if href_text[-1]=='/':\n",
    "                get_links(full_url)        \n",
    "            else:\n",
    "                full_url_list.append(full_url)                \n",
    "get_links('https://meps.ahrq.gov/data_files/pufs/')\n",
    "print('There are', f\"{len(full_url_list):,}\", 'Full URLs for five format-specific data files.')\n",
    "print('Listing of the first 5 URLs')\n",
    "for item in full_url_list[:5]:   print(item)\n"
   ]
  },
  {
   "cell_type": "code",
   "execution_count": 6,
   "id": "d624511c-c06d-4a2d-aef6-074930c9b221",
   "metadata": {},
   "outputs": [
    {
     "name": "stdout",
     "output_type": "stream",
     "text": [
      "There are 1,349 Full URLs for data files with extensions of interest.\n"
     ]
    },
    {
     "data": {
      "text/plain": [
       "dat.zip     557\n",
       "ssp.zip     557\n",
       "dta.zip      79\n",
       "v9.zip       78\n",
       "xlsx.zip     78\n",
       "Name: sub_string, dtype: int64"
      ]
     },
     "execution_count": 6,
     "metadata": {},
     "output_type": "execute_result"
    }
   ],
   "source": [
    "# Step 2: Create a dataframe from the list\n",
    "import pandas as pd  \n",
    "import numpy as np\n",
    "\n",
    "col1 = \"full_url\"\n",
    "df = pd.DataFrame({col1:full_url_list})\n",
    "values = ['v9.zip', 'ssp.zip', 'dta.zip', 'dat.zip', 'xlsx.zip']\n",
    "sub_string = list(map(df['full_url'].str.contains, values))\n",
    "df['sub_string'] = np.select(sub_string, values, 'other')\n",
    "print('There are', f\"{len(df):,}\", 'Full URLs for data files with extensions of interest.')\n",
    "df['sub_string'].value_counts()"
   ]
  },
  {
   "cell_type": "code",
   "execution_count": 7,
   "id": "8426e30e-6128-4444-a018-2efde3db8359",
   "metadata": {},
   "outputs": [],
   "source": [
    "# Step 3: Create an Excel Workbook with multiple sheets\n",
    "import pandas as pd \n",
    "import xlsxwriter \n",
    "\n",
    "with pd.ExcelWriter('MEPS_urls_WB_Oct19.xlsx') as writer:\n",
    "    for i, x in df.groupby('sub_string'):\n",
    "        x.drop('sub_string', axis=1).to_excel(writer, sheet_name=i, index=False)"
   ]
  },
  {
   "cell_type": "code",
   "execution_count": 7,
   "id": "afc2c7c3-d17c-47ff-ac57-54c9d9c4b7fc",
   "metadata": {},
   "outputs": [
    {
     "data": {
      "text/plain": [
       "'C:\\\\Jupyter_Lab'"
      ]
     },
     "execution_count": 7,
     "metadata": {},
     "output_type": "execute_result"
    }
   ],
   "source": [
    "%pwd"
   ]
  }
 ],
 "metadata": {
  "kernelspec": {
   "display_name": "Python 3 (ipykernel)",
   "language": "python",
   "name": "python3"
  },
  "language_info": {
   "codemirror_mode": {
    "name": "ipython",
    "version": 3
   },
   "file_extension": ".py",
   "mimetype": "text/x-python",
   "name": "python",
   "nbconvert_exporter": "python",
   "pygments_lexer": "ipython3",
   "version": "3.9.12"
  }
 },
 "nbformat": 4,
 "nbformat_minor": 5
}
