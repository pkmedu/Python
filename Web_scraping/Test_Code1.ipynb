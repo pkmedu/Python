{
 "cells": [
  {
   "cell_type": "code",
   "execution_count": null,
   "id": "acf4d23b-267d-461f-a445-4223212768f0",
   "metadata": {},
   "outputs": [],
   "source": []
  },
  {
   "cell_type": "code",
   "execution_count": 2,
   "id": "46366a27-f88e-416c-9cea-e54e6e84c292",
   "metadata": {},
   "outputs": [
    {
     "name": "stdout",
     "output_type": "stream",
     "text": [
      "['MEPS HC-226', 'HC-203', 'HC-051H']\n"
     ]
    }
   ],
   "source": [
    "mylist = ['MEPS HC-226','HC-203', 'HC-051H', 'NHC-001F','HC-IC',\n",
    "        'HC-004 replaced by HC-012','HC-030 CD-ROM)']\n",
    "sublist1 = []\n",
    "for element in mylist:\n",
    "    if element.startswith((\"MEPS HC\", \"HC\")):\n",
    "        if \"-IC\" not in element:\n",
    "            if \"replaced\" not in element:  \n",
    "                if \"CD-ROM\" not in element:\n",
    "                     sublist1.append(element)\n",
    "print(sublist1)"
   ]
  },
  {
   "cell_type": "code",
   "execution_count": null,
   "id": "dfbc0384-0515-4bb5-9b4d-2f45b88770c4",
   "metadata": {},
   "outputs": [],
   "source": []
  }
 ],
 "metadata": {
  "kernelspec": {
   "display_name": "Python 3 (ipykernel)",
   "language": "python",
   "name": "python3"
  },
  "language_info": {
   "codemirror_mode": {
    "name": "ipython",
    "version": 3
   },
   "file_extension": ".py",
   "mimetype": "text/x-python",
   "name": "python",
   "nbconvert_exporter": "python",
   "pygments_lexer": "ipython3",
   "version": "3.9.7"
  }
 },
 "nbformat": 4,
 "nbformat_minor": 5
}
