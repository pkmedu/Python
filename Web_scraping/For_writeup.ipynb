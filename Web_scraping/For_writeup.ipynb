{
 "cells": [
  {
   "cell_type": "markdown",
   "id": "fd035500-d3c4-46dd-a8bd-5ac9f44c6bea",
   "metadata": {},
   "source": [
    "https://thecleverprogrammer.com/2020/08/08/web-scraping-to-create-csv/"
   ]
  },
  {
   "cell_type": "code",
   "execution_count": 5,
   "id": "f981d393-771b-4a0d-9ea6-e573aec635a2",
   "metadata": {},
   "outputs": [
    {
     "ename": "SyntaxError",
     "evalue": "invalid syntax (Temp/ipykernel_18736/1094855503.py, line 7)",
     "output_type": "error",
     "traceback": [
      "\u001b[1;36m  File \u001b[1;32m\"C:\\Users\\pmuhuri\\AppData\\Local\\Temp/ipykernel_18736/1094855503.py\"\u001b[1;36m, line \u001b[1;32m7\u001b[0m\n\u001b[1;33m    for line in soup.find_all(\"option\", value=):\u001b[0m\n\u001b[1;37m                                              ^\u001b[0m\n\u001b[1;31mSyntaxError\u001b[0m\u001b[1;31m:\u001b[0m invalid syntax\n"
     ]
    }
   ],
   "source": [
    "import requests\n",
    "from bs4 import BeautifulSoup, re, Comment\n",
    "import pandas as pd  \n",
    "base_url = \"https://meps.ahrq.gov/data_stats/download_data_files.jsp\"\n",
    "response = requests.get(base_url)\n",
    "soup = BeautifulSoup(response.text, \"html.parser\")\n",
    "for line in soup.find_all(\"option\", value=):\n",
    "    comments = ''.join(line.find_all(text=True))\n",
    "    print (comments)\n",
    "\n",
    "\"\"\"\n",
    "for c in comments:\n",
    "    if '<select id=\"pufnumber\" size=1 name=\"cboPufNumber\">' in c:\n",
    "#comments = soup.find_all(string=lambda text: isinstance(text, Comment))\n",
    "        print(c)\n",
    "for c in comments:\n",
    "    if '<select id=\"pufnumber\" size=1 name=\"cboPufNumber\">' in c:\n",
    "        print(c.option.text)\n",
    "\n",
    "for line in soup.find_all(\"div\",class_=\"fyre-comment-count\"):\n",
    "    comments = ''.join(line.find_all(text=True))\n",
    "    print (comments)\n",
    "\"\"\""
   ]
  },
  {
   "cell_type": "code",
   "execution_count": null,
   "id": "51c387f2-f206-41fd-b719-0a0eb8f02b17",
   "metadata": {},
   "outputs": [],
   "source": []
  }
 ],
 "metadata": {
  "kernelspec": {
   "display_name": "Python 3 (ipykernel)",
   "language": "python",
   "name": "python3"
  },
  "language_info": {
   "codemirror_mode": {
    "name": "ipython",
    "version": 3
   },
   "file_extension": ".py",
   "mimetype": "text/x-python",
   "name": "python",
   "nbconvert_exporter": "python",
   "pygments_lexer": "ipython3",
   "version": "3.9.7"
  }
 },
 "nbformat": 4,
 "nbformat_minor": 5
}
