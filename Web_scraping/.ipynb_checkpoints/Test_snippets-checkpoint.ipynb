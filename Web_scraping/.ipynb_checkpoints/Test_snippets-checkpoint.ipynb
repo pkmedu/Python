{
 "cells": [
  {
   "cell_type": "code",
   "execution_count": null,
   "id": "acf4d23b-267d-461f-a445-4223212768f0",
   "metadata": {},
   "outputs": [],
   "source": []
  },
  {
   "cell_type": "code",
   "execution_count": 8,
   "id": "dfbc0384-0515-4bb5-9b4d-2f45b88770c4",
   "metadata": {},
   "outputs": [
    {
     "ename": "TypeError",
     "evalue": "'list' object is not callable",
     "output_type": "error",
     "traceback": [
      "\u001b[1;31m---------------------------------------------------------------------------\u001b[0m",
      "\u001b[1;31mTypeError\u001b[0m                                 Traceback (most recent call last)",
      "\u001b[1;32m~\\AppData\\Local\\Temp/ipykernel_4396/2817075887.py\u001b[0m in \u001b[0;36m<module>\u001b[1;34m\u001b[0m\n\u001b[0;32m      9\u001b[0m     \u001b[1;32mif\u001b[0m \u001b[0melement\u001b[0m\u001b[1;33m.\u001b[0m\u001b[0mstartswith\u001b[0m\u001b[1;33m(\u001b[0m\u001b[1;33m(\u001b[0m\u001b[1;34m'MEPS HC'\u001b[0m\u001b[1;33m,\u001b[0m \u001b[1;34m'HC'\u001b[0m\u001b[1;33m)\u001b[0m\u001b[1;33m)\u001b[0m \u001b[1;32mand\u001b[0m\u001b[0;31m \u001b[0m\u001b[0;31m\\\u001b[0m\u001b[1;33m\u001b[0m\u001b[1;33m\u001b[0m\u001b[0m\n\u001b[0;32m     10\u001b[0m     \u001b[1;32mnot\u001b[0m \u001b[0many\u001b[0m\u001b[1;33m(\u001b[0m\u001b[0mitem\u001b[0m \u001b[1;32min\u001b[0m \u001b[0melement\u001b[0m \u001b[1;32mfor\u001b[0m \u001b[0mitem\u001b[0m \u001b[1;32min\u001b[0m \u001b[0munwanteds\u001b[0m\u001b[1;33m)\u001b[0m\u001b[1;33m:\u001b[0m\u001b[1;33m\u001b[0m\u001b[1;33m\u001b[0m\u001b[0m\n\u001b[1;32m---> 11\u001b[1;33m         \u001b[0mfiltered2\u001b[0m\u001b[1;33m(\u001b[0m\u001b[0melement\u001b[0m\u001b[1;33m)\u001b[0m\u001b[1;33m\u001b[0m\u001b[1;33m\u001b[0m\u001b[0m\n\u001b[0m\u001b[0;32m     12\u001b[0m \u001b[0mprint\u001b[0m\u001b[1;33m(\u001b[0m\u001b[0mfiltered2\u001b[0m\u001b[1;33m)\u001b[0m\u001b[1;33m\u001b[0m\u001b[1;33m\u001b[0m\u001b[0m\n",
      "\u001b[1;31mTypeError\u001b[0m: 'list' object is not callable"
     ]
    }
   ],
   "source": [
    "# Method 2\n",
    "mylist = ['MEPS HC-226','HC-203', 'HC-051H', 'NHC-001F','HC-IC',\n",
    "        'HC-004 replaced by HC-012','HC-030 CD-ROM)']\n",
    "\n",
    "unwanteds = ['-IC', 'replaced', 'CD-ROM']\n",
    "filtered2 = []\n",
    "\n",
    "for element in mylist:\n",
    "    if element.startswith(('MEPS HC', 'HC')) and \\\n",
    "    not any(item in element for item in unwanteds):\n",
    "        filtered2(element)\n",
    "print(filtered2)"
   ]
  },
  {
   "cell_type": "code",
   "execution_count": null,
   "id": "39925773-09a7-47e5-9e64-a2c580c6c856",
   "metadata": {},
   "outputs": [],
   "source": [
    "# Method 3 - Lambda with Filter ()\n",
    "mylist = ['MEPS HC-226','HC-203', 'HC-051H', 'NHC-001F','HC-IC',\n",
    "        'HC-004 replaced by HC-012','HC-030 CD-ROM)']\n",
    "\n",
    "# Method 3\n",
    "unwanteds = ['-IC', 'replaced', 'CD-ROM']\n",
    "filtered3 = filter(lambda x: ???, values)\n",
    "filtered3_values = list(filtered3)\n",
    "               any(unwanteds not in mylist)\n",
    "            filtered3.append(element)\n",
    "print(filtered3)"
   ]
  }
 ],
 "metadata": {
  "kernelspec": {
   "display_name": "Python 3 (ipykernel)",
   "language": "python",
   "name": "python3"
  },
  "language_info": {
   "codemirror_mode": {
    "name": "ipython",
    "version": 3
   },
   "file_extension": ".py",
   "mimetype": "text/x-python",
   "name": "python",
   "nbconvert_exporter": "python",
   "pygments_lexer": "ipython3",
   "version": "3.9.7"
  }
 },
 "nbformat": 4,
 "nbformat_minor": 5
}
