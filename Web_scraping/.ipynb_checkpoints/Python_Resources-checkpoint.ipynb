{
 "cells": [
  {
   "cell_type": "code",
   "execution_count": null,
   "id": "ec36aad0-3356-4f53-8b1a-a45e1907199e",
   "metadata": {},
   "outputs": [],
   "source": []
  },
  {
   "cell_type": "markdown",
   "id": "db1de04a-ddfa-4512-9c64-21af65387bf8",
   "metadata": {},
   "source": [
    "[Python for Everybody by by Charles Severance](https://books.trinket.io/pfe/07-files.html)"
   ]
  },
  {
   "cell_type": "markdown",
   "id": "9362e073-7dcc-48d6-8a7e-75bd7154f8ee",
   "metadata": {},
   "source": [
    "https://pythonexamples.org/get-list-of-all-python-keywords-programmatically/#2"
   ]
  },
  {
   "cell_type": "code",
   "execution_count": null,
   "id": "bda5aaab-b74e-4589-be4f-11849c00c7f3",
   "metadata": {},
   "outputs": [],
   "source": [
    "import keyword\n",
    "\n",
    "if __name__ == '__main__':\n",
    "\t#get all keywords\n",
    "\tkeywords = keyword.kwlist\n",
    "\t#print the keywords\n",
    "\tfor key in keywords:\n",
    "\t\tprint(key)"
   ]
  },
  {
   "cell_type": "markdown",
   "id": "533bfbdd-6f56-424a-a741-458e26591475",
   "metadata": {},
   "source": [
    "[Python Crash Course 2nd Edition](https://ehmatthes.github.io/pcc_2e/solutions/chapter_7/)"
   ]
  },
  {
   "cell_type": "markdown",
   "id": "aaf87d5f-1adf-4c84-bbad-5c8ac0b25a83",
   "metadata": {},
   "source": [
    "[Introduction to Programming](Introduction to Programming)"
   ]
  },
  {
   "cell_type": "markdown",
   "id": "9eeb6d77-887d-44dd-8441-437cd5de86d3",
   "metadata": {},
   "source": [
    "[Web Scraping real estate data with Beautiful Soup](https://medium.com/@lorenagongang/web-scraping-real-estate-data-with-beautiful-soup-255d6a73370d)"
   ]
  },
  {
   "cell_type": "markdown",
   "id": "db445ea6-3765-4bee-b1f1-517d8e4c8ad7",
   "metadata": {},
   "source": [
    "[Introduction to Programming](https://stevevincent.info/CS1110_2017_9.htm)"
   ]
  },
  {
   "cell_type": "markdown",
   "id": "afada951-5138-4653-8d75-2acedb0451f1",
   "metadata": {},
   "source": [
    "https://www.softwaretestinghelp.com/python/python-list-tutorial/\n",
    "\n",
    "https://www.greenteapress.com/thinkpython2/html/index.html\n",
    "\n",
    "https://ucsbcarpentry.github.io/CustomLibraryWebscraping/04-intro-jupyter-lab/index.html\n",
    "\n",
    "https://notebook.community/HrantDavtyan/Data_Scraping/2018/Scrapy"
   ]
  },
  {
   "cell_type": "markdown",
   "id": "ee7d4913-3bc0-4089-ba90-3c3a036a2f82",
   "metadata": {},
   "source": [
    "## Optimizing Jupyter Notebook: Tips, Tricks, and nbextensions\n",
    "https://towardsdatascience.com/optimizing-jupyter-notebook-tips-tricks-and-nbextensions-26d75d502663#:~:text=Copying%20and%20pasting%20cells%20BETWEEN,mode%20Ctrl%20%2B%20v%20to%20paste\n",
    "\n",
    "Op"
   ]
  },
  {
   "cell_type": "markdown",
   "id": "f57ebc35-8de3-42e3-b9ea-bf34cef163b9",
   "metadata": {},
   "source": [
    "## Basic notebook operations\n",
    "https://subscription.packtpub.com/book/big-data-and-business-intelligence/9781785884870/1/ch01lvl1sec12/basic-notebook-operations"
   ]
  },
  {
   "cell_type": "code",
   "execution_count": null,
   "id": "3341f38c-603d-4403-8ef6-e2376c01c1e7",
   "metadata": {},
   "outputs": [],
   "source": []
  }
 ],
 "metadata": {
  "kernelspec": {
   "display_name": "Python 3 (ipykernel)",
   "language": "python",
   "name": "python3"
  },
  "language_info": {
   "codemirror_mode": {
    "name": "ipython",
    "version": 3
   },
   "file_extension": ".py",
   "mimetype": "text/x-python",
   "name": "python",
   "nbconvert_exporter": "python",
   "pygments_lexer": "ipython3",
   "version": "3.9.12"
  }
 },
 "nbformat": 4,
 "nbformat_minor": 5
}
