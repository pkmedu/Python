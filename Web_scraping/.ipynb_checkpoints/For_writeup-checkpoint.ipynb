{
 "cells": [
  {
   "cell_type": "markdown",
   "id": "fd035500-d3c4-46dd-a8bd-5ac9f44c6bea",
   "metadata": {},
   "source": [
    "https://thecleverprogrammer.com/2020/08/08/web-scraping-to-create-csv/"
   ]
  }
 ],
 "metadata": {
  "kernelspec": {
   "display_name": "Python 3 (ipykernel)",
   "language": "python",
   "name": "python3"
  },
  "language_info": {
   "codemirror_mode": {
    "name": "ipython",
    "version": 3
   },
   "file_extension": ".py",
   "mimetype": "text/x-python",
   "name": "python",
   "nbconvert_exporter": "python",
   "pygments_lexer": "ipython3",
   "version": "3.9.7"
  }
 },
 "nbformat": 4,
 "nbformat_minor": 5
}
