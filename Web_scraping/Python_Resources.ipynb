{
 "cells": [
  {
   "cell_type": "code",
   "execution_count": 1,
   "id": "ec36aad0-3356-4f53-8b1a-a45e1907199e",
   "metadata": {},
   "outputs": [
    {
     "name": "stdout",
     "output_type": "stream",
     "text": [
      "Python 3.9.12\n"
     ]
    }
   ],
   "source": [
    "!python --version"
   ]
  },
  {
   "cell_type": "markdown",
   "id": "db1de04a-ddfa-4512-9c64-21af65387bf8",
   "metadata": {},
   "source": [
    "### [Python for Everybody by by Charles Severance](https://books.trinket.io/pfe/07-files.html)"
   ]
  },
  {
   "cell_type": "markdown",
   "id": "9362e073-7dcc-48d6-8a7e-75bd7154f8ee",
   "metadata": {},
   "source": [
    "https://pythonexamples.org/get-list-of-all-python-keywords-programmatically/#2"
   ]
  },
  {
   "cell_type": "markdown",
   "id": "86e7c409-ff25-4e41-b219-68aa33ed40d0",
   "metadata": {},
   "source": [
    "### Python Tutorials\n",
    "\n",
    "https://zetcode.com/lang/python/"
   ]
  },
  {
   "cell_type": "markdown",
   "id": "22f4157a-56a8-425a-8ac7-9934fbcf393c",
   "metadata": {},
   "source": [
    "### Python Cheetsheet  \n",
    "\n",
    "https://github.com/gto76/python-cheatsheet#list\n",
    "\n",
    "* Collections: List, Dictionary, Set, Tuple, Range, Enumerate, Iterator, Generator.\n",
    "\n",
    "* Types: Type, String, Regular_Exp, Format, Numbers, Combinatorics, Datetime.\n",
    "\n",
    "* Syntax: Args, Inline, Import, Decorator, Class, Duck_Types, Enum, Exception.\n",
    "\n",
    "* System: Exit, Print, Input, Command_Line_Arguments, Open, Path, OS_Commands.\n",
    "\n",
    "* Data: JSON, Pickle, CSV, SQLite, Bytes, Struct, Array, Memory_View, Deque.\n",
    "\n",
    "* Advanced: Threading, Operator, Introspection, Metaprograming, Eval, Coroutines.\n",
    "\n",
    "* Libraries: Progress_Bar, Plot, Table, Curses, Logging, Scraping, Web, Profile,\n",
    "                       NumPy, Image, Audio, Games, Data."
   ]
  },
  {
   "cell_type": "markdown",
   "id": "533bfbdd-6f56-424a-a741-458e26591475",
   "metadata": {},
   "source": [
    "### [Python Crash Course 2nd Edition](https://ehmatthes.github.io/pcc_2e/solutions/chapter_7/)"
   ]
  },
  {
   "cell_type": "markdown",
   "id": "9eeb6d77-887d-44dd-8441-437cd5de86d3",
   "metadata": {},
   "source": [
    "### [Web Scraping real estate data with Beautiful Soup](https://medium.com/@lorenagongang/web-scraping-real-estate-data-with-beautiful-soup-255d6a73370d)"
   ]
  },
  {
   "cell_type": "markdown",
   "id": "db445ea6-3765-4bee-b1f1-517d8e4c8ad7",
   "metadata": {},
   "source": [
    "### [Introduction to Programming](https://stevevincent.info/CS1110_2017_9.htm)"
   ]
  },
  {
   "cell_type": "markdown",
   "id": "afada951-5138-4653-8d75-2acedb0451f1",
   "metadata": {},
   "source": [
    "\n",
    "### Python List – Create, Access, Slice, Add Or Delete Elements\n",
    "https://www.softwaretestinghelp.com/python/python-list-tutorial/\n",
    "\n",
    "### Think Python: How to Think Like a Computer Scientist\n",
    "https://www.greenteapress.com/thinkpython2/html/index.html\n"
   ]
  },
  {
   "cell_type": "code",
   "execution_count": null,
   "id": "e545df48-513e-4a59-9cba-94c74d509c49",
   "metadata": {},
   "outputs": [],
   "source": [
    "if __name__ == '__main__':     # Runs main() if file wasn't imported.\n",
    "    main()"
   ]
  },
  {
   "cell_type": "code",
   "execution_count": null,
   "id": "bda5aaab-b74e-4589-be4f-11849c00c7f3",
   "metadata": {},
   "outputs": [],
   "source": [
    "import keyword\n",
    "\n",
    "if __name__ == '__main__':\n",
    "\t#get all keywords\n",
    "\tkeywords = keyword.kwlist\n",
    "\t#print the keywords\n",
    "\tfor key in keywords:\n",
    "\t\tprint(key)"
   ]
  },
  {
   "cell_type": "markdown",
   "id": "ee7d4913-3bc0-4089-ba90-3c3a036a2f82",
   "metadata": {},
   "source": [
    "### Jupyter Lab\n",
    "\n",
    "You can think of Jupyter Lab as Jupyter Notebook’s big brother. It has all the functionalities you can find on your average notebook but also integrates the notebook, console, text editor, and terminal in one place.\n",
    "\n",
    "But that’s not all! Jupyter Lab also has third-party extensions that you can make the most of. Unlike Jupyter Notebook, you can install an extension from Jupyter Lab’s extension manager.\n",
    "\n",
    "There are extensions to work with spreadsheets, draw diagrams, auto-complete code, debug code, etc.\n",
    "\n",
    "## Optimizing Jupyter Notebook: Tips, Tricks, and nbextensions\n",
    "https://towardsdatascience.com/optimizing-jupyter-notebook-tips-tricks-and-nbextensions-26d75d502663#:~:text=Copying%20and%20pasting%20cells%20BETWEEN,mode%20Ctrl%20%2B%20v%20to%20paste\n",
    "\n",
    "Op\n",
    "\n",
    "### [Convert ipynb To Python File format](https://pythondex.com/convert-ipynb-to-python-file)\n",
    "### Convert single ipynb file to python file\n",
    "jupyter nbconvert --to script filename.ipynb\n",
    "\n",
    "### Convert multiple ipynb files to python files\n",
    "jupyter nbconvert --to script filename.ipynb filename2.ipynb\n"
   ]
  },
  {
   "cell_type": "markdown",
   "id": "e2ab274e-52ea-4a30-bc47-5684513fe9b4",
   "metadata": {},
   "source": [
    "### What Is Python Programming language | Headstart With Python Basics"
   ]
  },
  {
   "cell_type": "markdown",
   "id": "234920eb-1b0b-4b58-8dff-3f7e1470de09",
   "metadata": {},
   "source": [
    "https://www.edureka.co/blog/python-programming-language#PythonFundamentals\n"
   ]
  },
  {
   "cell_type": "markdown",
   "id": "98bc1e8f-cdc2-477f-b24b-37f38764a452",
   "metadata": {},
   "source": [
    "https://medium.com/@ashwin3005/shortcuts-in-jupyter-notebook-fc0543e72512"
   ]
  },
  {
   "cell_type": "markdown",
   "id": "c554f480-7d7a-43d7-8724-46dce8ae1e88",
   "metadata": {},
   "source": [
    "### Python 3 Notes including IDLE and List Comprehension\n",
    "https://sites.pitt.edu/~naraehan/python3/list_comprehension.html"
   ]
  },
  {
   "cell_type": "markdown",
   "id": "600ffc18-f9a4-45c0-914a-1085df19995d",
   "metadata": {},
   "source": [
    "### Introductio to Web Scraping using Jupyter Lab\n",
    "\n",
    "https://ucsbcarpentry.github.io/CustomLibraryWebscraping/04-intro-jupyter-lab/index.html\n",
    "\n",
    "https://notebook.community/HrantDavtyan/Data_Scraping/2018/Scrapy"
   ]
  },
  {
   "cell_type": "markdown",
   "id": "9f75d82d-94e8-4fb3-b6ba-bf1949bacaa7",
   "metadata": {},
   "source": [
    "\n",
    "### Python BeautifulSoup.BeautifulSoup() Examples\n",
    "\n",
    "https://www.programcreek.com/python/example/1569/BeautifulSoup.BeautifulSoup\n",
    "\n"
   ]
  },
  {
   "cell_type": "markdown",
   "id": "c21d73e1-c476-4afa-b488-8c91be84c421",
   "metadata": {},
   "source": [
    "### Python Beautiful Soup Basics Tutorial\n",
    "\n",
    "https://nitratine.net/blog/post/python-beautiful-soup-basics-tutorial/\n"
   ]
  },
  {
   "cell_type": "markdown",
   "id": "6255ae5c-7fcc-4bcd-8da7-705bfb5ad322",
   "metadata": {},
   "source": [
    "### Tutorial: Web Scraping with Python Using Beautiful Soup\n",
    "https://www.dataquest.io/blog/web-scraping-python-using-beautiful-soup/"
   ]
  },
  {
   "cell_type": "markdown",
   "id": "7ad99f12-424c-4794-b5ea-519a15668004",
   "metadata": {},
   "source": [
    "#### Tutorial 1 Beautiful Soup by Tamas Ujhelyi\n",
    "https://data36.com/beautiful-soup-tutorial-web-scraping/\n"
   ]
  },
  {
   "cell_type": "markdown",
   "id": "7ae90cd7-7257-46c4-b5bf-2caa9c2d7ecb",
   "metadata": {},
   "source": [
    "### Beautiful Soup Multiple Tag Selector With Code Examples\n",
    "\n",
    "https://www.folkstalk.com/2022/10/beautiful-soup-multiple-tag-selector-with-code-examples.html"
   ]
  },
  {
   "cell_type": "markdown",
   "id": "199107f6-45aa-4be2-9ca3-0ab6b4afa051",
   "metadata": {},
   "source": [
    "### Guide to Parsing HTML with BeautifulSoup in Python (for write-up)\n",
    "\n",
    "https://stackabuse.com/guide-to-parsing-html-with-beautifulsoup-in-python/"
   ]
  },
  {
   "cell_type": "markdown",
   "id": "535f9910-892a-4500-b541-15398bf13a90",
   "metadata": {},
   "source": [
    "#### Python Regex Lookahead\n",
    "https://www.pythontutorial.net/python-regex/python-regex-lookahead/\n",
    "\n",
    "#### Mastering Lookahead and Lookbehind\n",
    "https://www.rexegg.com/regex-lookarounds.html\n",
    "\n",
    "#### Python Regular Expression Tutorial\n",
    "https://tschwarz.mscs.mu.edu/Classes/PythonB/Modules/RegularExpressions/article.html\n",
    "\n",
    "#### Regular Expression HOWTO\n",
    "https://docs.python.org/3/howto/regex.html\n",
    "\n"
   ]
  },
  {
   "cell_type": "markdown",
   "id": "22f3f063-61cc-4866-9316-03300c319420",
   "metadata": {},
   "source": [
    "#### Adding line numbers to the output in Python\n",
    "https://stackoverflow.com/questions/29268231/adding-line-numbers-to-the-output-in-python"
   ]
  },
  {
   "cell_type": "code",
   "execution_count": null,
   "id": "69f21d07-7721-4fa7-8bac-479800d3b10e",
   "metadata": {},
   "outputs": [],
   "source": []
  }
 ],
 "metadata": {
  "kernelspec": {
   "display_name": "Python 3 (ipykernel)",
   "language": "python",
   "name": "python3"
  },
  "language_info": {
   "codemirror_mode": {
    "name": "ipython",
    "version": 3
   },
   "file_extension": ".py",
   "mimetype": "text/x-python",
   "name": "python",
   "nbconvert_exporter": "python",
   "pygments_lexer": "ipython3",
   "version": "3.9.12"
  }
 },
 "nbformat": 4,
 "nbformat_minor": 5
}
