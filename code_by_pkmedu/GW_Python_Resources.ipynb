{
 "cells": [
  {
   "cell_type": "markdown",
   "metadata": {},
   "source": [
    "### GW Python Resources"
   ]
  },
  {
   "cell_type": "markdown",
   "metadata": {},
   "source": [
    "To learn more about the Gapminder Project, visit https://www.gapminder.org/\n",
    " \n",
    " For viewing the GapMinder data in GitHub\n",
    " https://github.com/gwu-libraries/gwlibraries-workshops/blob/master/python-datacarpentry/data/gapminder_all_cleaned.csv\n",
    " \n",
    " GapMinder documentation: https://www.gapminder.org/data/documentation/"
   ]
  },
  {
   "cell_type": "markdown",
   "metadata": {},
   "source": [
    "Resources\n",
    "Safari Tech Books/O'Reilly Online: https://www.safaribooksonline.com/library/view/temporary-access\n",
    "\n",
    "Link to Consultation: https://academiccommons.gwu.edu/writing-research-help\n",
    "\n",
    "Shell. bash lesson\n",
    "http://swcarpentry.github.io/shell-novice/\n",
    "Git lesson\n",
    "http://swcarpentry.github.io/git-novice/\n",
    "\n",
    "Complete Python lessons (with additional content):\n",
    "https://github.com/gwu-libraries/gwlibraries-workshops/tree/master/python-datacarpentry\n",
    "\n",
    "Git Commands\n",
    "https://pad.carpentries.org/gw_oct20_bash2"
   ]
  }
 ],
 "metadata": {
  "kernelspec": {
   "display_name": "Python 3",
   "language": "python",
   "name": "python3"
  },
  "language_info": {
   "codemirror_mode": {
    "name": "ipython",
    "version": 3
   },
   "file_extension": ".py",
   "mimetype": "text/x-python",
   "name": "python",
   "nbconvert_exporter": "python",
   "pygments_lexer": "ipython3",
   "version": "3.7.4"
  }
 },
 "nbformat": 4,
 "nbformat_minor": 4
}
