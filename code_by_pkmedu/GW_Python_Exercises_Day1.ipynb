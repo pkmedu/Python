{
 "cells": [
  {
   "cell_type": "markdown",
   "metadata": {},
   "source": [
    "#### Exercise 1\n",
    "\n",
    "Exercise on variables and calculations\n",
    "\n",
    "1. Using variables and expressions, calculate the percentage change in life expectancy between 1952 and 2007 for another country in the CSV file.\n",
    "\n",
    "2. Print a statement that summarizes your findings, including the name of the country.\n",
    "\n",
    "Hint: Percent change between quantities x and y is calculated as\n",
    "(y - x) / x."
   ]
  },
  {
   "cell_type": "code",
   "execution_count": 2,
   "metadata": {},
   "outputs": [],
   "source": [
    "country2 = \"Ireland\"\n",
    "lifeExp1952 = 66.91\n",
    "lifeExp2007 = 78.885"
   ]
  },
  {
   "cell_type": "code",
   "execution_count": 3,
   "metadata": {},
   "outputs": [],
   "source": [
    "pChange = (lifeExp2007 - lifeExp1952) / lifeExp1952 * 100"
   ]
  },
  {
   "cell_type": "code",
   "execution_count": 4,
   "metadata": {},
   "outputs": [
    {
     "name": "stdout",
     "output_type": "stream",
     "text": [
      "The % change in life expectancy for Irelandis: 17.897175310118083\n"
     ]
    }
   ],
   "source": [
    "statement = \"The % change in life expectancy for \" + country2 + \"is: \" + str(pChange)\n",
    "print (statement)"
   ]
  },
  {
   "cell_type": "code",
   "execution_count": 5,
   "metadata": {},
   "outputs": [],
   "source": [
    "amount = (lifeExp2007-lifeExp1952)/lifeExp1952\n",
    "statement = \"the change in life expectancy is \" + str(round(amount, 3))"
   ]
  },
  {
   "cell_type": "code",
   "execution_count": 6,
   "metadata": {},
   "outputs": [
    {
     "name": "stdout",
     "output_type": "stream",
     "text": [
      "0.17897175310118082\n",
      "the change in life expectancy is 0.179\n"
     ]
    }
   ],
   "source": [
    "print(amount)\n",
    "print(statement)"
   ]
  },
  {
   "cell_type": "markdown",
   "metadata": {},
   "source": [
    "#### Exercise on split() and lists\n",
    "\n",
    "1. The first row of our dataset is a comma-separated string of column headers. Split this string on the commas to create a list of headers and assign it to a variable.\n",
    "\n",
    "2. Print just the column headers in the header row that contain the column names for GDP per capita (the ones starting with gdpPercap)."
   ]
  },
  {
   "cell_type": "code",
   "execution_count": 7,
   "metadata": {},
   "outputs": [
    {
     "data": {
      "text/plain": [
       "'c:\\\\Data'"
      ]
     },
     "execution_count": 7,
     "metadata": {},
     "output_type": "execute_result"
    }
   ],
   "source": [
    "pwd"
   ]
  },
  {
   "cell_type": "code",
   "execution_count": 8,
   "metadata": {},
   "outputs": [],
   "source": [
    "\n",
    "#Loading the CSV file\n",
    "with open('gapminder_all_cleaned.csv', 'r') as f:\n",
    "    gap_data = f.read()"
   ]
  },
  {
   "cell_type": "code",
   "execution_count": 9,
   "metadata": {},
   "outputs": [],
   "source": [
    "# To break our long string into separate lines of text\n",
    "# The split() method produces a list of strings out of a larger string\n",
    "lines = gap_data.split('\\n')"
   ]
  },
  {
   "cell_type": "code",
   "execution_count": 10,
   "metadata": {},
   "outputs": [
    {
     "name": "stdout",
     "output_type": "stream",
     "text": [
      "['gdpPercap_1952', 'gdpPercap_1957', 'gdpPercap_1962', 'gdpPercap_1967', 'gdpPercap_1972', 'gdpPercap_1977', 'gdpPercap_1982', 'gdpPercap_1987', 'gdpPercap_1992', 'gdpPercap_1997', 'gdpPercap_2002', 'gdpPercap_2007']\n"
     ]
    }
   ],
   "source": [
    "headers = lines[0].split(',')\n",
    "print(headers[2:14])"
   ]
  },
  {
   "cell_type": "code",
   "execution_count": 11,
   "metadata": {},
   "outputs": [
    {
     "name": "stdout",
     "output_type": "stream",
     "text": [
      "continent\n",
      "country\n",
      "gdpPercap_1952\n",
      "gdpPercap_1957\n",
      "gdpPercap_1962\n",
      "gdpPercap_1967\n",
      "gdpPercap_1972\n",
      "gdpPercap_1977\n",
      "gdpPercap_1982\n",
      "gdpPercap_1987\n",
      "gdpPercap_1992\n",
      "gdpPercap_1997\n",
      "gdpPercap_2002\n",
      "gdpPercap_2007\n",
      "lifeExp_1952\n",
      "lifeExp_1957\n",
      "lifeExp_1962\n",
      "lifeExp_1967\n",
      "lifeExp_1972\n",
      "lifeExp_1977\n",
      "lifeExp_1982\n",
      "lifeExp_1987\n",
      "lifeExp_1992\n",
      "lifeExp_1997\n",
      "lifeExp_2002\n",
      "lifeExp_2007\n",
      "pop_1952\n",
      "pop_1957\n",
      "pop_1962\n",
      "pop_1967\n",
      "pop_1972\n",
      "pop_1977\n",
      "pop_1982\n",
      "pop_1987\n",
      "pop_1992\n",
      "pop_1997\n",
      "pop_2002\n",
      "pop_2007\n"
     ]
    }
   ],
   "source": [
    "#Looping through a list\n",
    "for h in headers:\n",
    "    print(h)"
   ]
  },
  {
   "cell_type": "code",
   "execution_count": 12,
   "metadata": {},
   "outputs": [],
   "source": [
    "# To create a new list of lists\n",
    "gap_tbl = []\n",
    "for line in lines:\n",
    "    row = line.split(',')\n",
    "    gap_tbl.append(row)"
   ]
  },
  {
   "cell_type": "code",
   "execution_count": 13,
   "metadata": {},
   "outputs": [
    {
     "name": "stdout",
     "output_type": "stream",
     "text": [
      "First row: ['continent', 'country', 'gdpPercap_1952', 'gdpPercap_1957', 'gdpPercap_1962', 'gdpPercap_1967', 'gdpPercap_1972', 'gdpPercap_1977', 'gdpPercap_1982', 'gdpPercap_1987', 'gdpPercap_1992', 'gdpPercap_1997', 'gdpPercap_2002', 'gdpPercap_2007', 'lifeExp_1952', 'lifeExp_1957', 'lifeExp_1962', 'lifeExp_1967', 'lifeExp_1972', 'lifeExp_1977', 'lifeExp_1982', 'lifeExp_1987', 'lifeExp_1992', 'lifeExp_1997', 'lifeExp_2002', 'lifeExp_2007', 'pop_1952', 'pop_1957', 'pop_1962', 'pop_1967', 'pop_1972', 'pop_1977', 'pop_1982', 'pop_1987', 'pop_1992', 'pop_1997', 'pop_2002', 'pop_2007']\n"
     ]
    }
   ],
   "source": [
    "# To access the first row\n",
    "print('First row:', gap_tbl[0])"
   ]
  },
  {
   "cell_type": "code",
   "execution_count": 14,
   "metadata": {},
   "outputs": [
    {
     "name": "stdout",
     "output_type": "stream",
     "text": [
      "Second row, third element: 2449.008185\n"
     ]
    }
   ],
   "source": [
    "# To access a single element at a particular row, column position\n",
    "print('Second row, third element:', gap_tbl[1][2])"
   ]
  },
  {
   "cell_type": "markdown",
   "metadata": {},
   "source": [
    "### Exercise on slicing and loops\n",
    "\n",
    "1. Create a new list of just the rows for the countries in Africa. (There are 52 countries in Africa in the file.)\n",
    "\n",
    "2. Using a for  loop, create another list with just the GDP per capita values for African countries for the year 2007.\n",
    "\n",
    "Hint: Assigning a slice of a list to a variable creates a new list."
   ]
  },
  {
   "cell_type": "code",
   "execution_count": 25,
   "metadata": {},
   "outputs": [
    {
     "data": {
      "text/plain": [
       "3520.61"
      ]
     },
     "execution_count": 25,
     "metadata": {},
     "output_type": "execute_result"
    }
   ],
   "source": [
    "# Lists vs Dictionaries\n",
    "countries = {'country': 'Angola',\n",
    "            'gdpPercap_1952': 3520.61}\n",
    "\n",
    "countries['country']\n",
    "countries['gdpPercap_1952']"
   ]
  },
  {
   "cell_type": "code",
   "execution_count": 15,
   "metadata": {},
   "outputs": [],
   "source": [
    "gap_table=[]\n",
    "for line in lines:\n",
    "    row = line.split(\",\")\n",
    "    if row[0] == \"Africa\":\n",
    "        gap_table.append(row)\n",
    "  "
   ]
  },
  {
   "cell_type": "code",
   "execution_count": 16,
   "metadata": {},
   "outputs": [],
   "source": [
    "gap_Afrida_2007=[]\n",
    "for line in gap_table:\n",
    "            gap_Afrida_2007.append(line[13])"
   ]
  },
  {
   "cell_type": "code",
   "execution_count": 26,
   "metadata": {},
   "outputs": [
    {
     "data": {
      "text/plain": [
       "3520.61"
      ]
     },
     "execution_count": 26,
     "metadata": {},
     "output_type": "execute_result"
    }
   ],
   "source": [
    "countries['gdpPercap_1952']"
   ]
  },
  {
   "cell_type": "code",
   "execution_count": 18,
   "metadata": {},
   "outputs": [
    {
     "name": "stdout",
     "output_type": "stream",
     "text": [
      "['continent', 'country', 'gdpPercap_1952', 'gdpPercap_1957', 'gdpPercap_1962', 'gdpPercap_1967', 'gdpPercap_1972', 'gdpPercap_1977', 'gdpPercap_1982', 'gdpPercap_1987', 'gdpPercap_1992', 'gdpPercap_1997', 'gdpPercap_2002', 'gdpPercap_2007', 'lifeExp_1952', 'lifeExp_1957', 'lifeExp_1962', 'lifeExp_1967', 'lifeExp_1972', 'lifeExp_1977', 'lifeExp_1982', 'lifeExp_1987', 'lifeExp_1992', 'lifeExp_1997', 'lifeExp_2002', 'lifeExp_2007', 'pop_1952', 'pop_1957', 'pop_1962', 'pop_1967', 'pop_1972', 'pop_1977', 'pop_1982', 'pop_1987', 'pop_1992', 'pop_1997', 'pop_2002', 'pop_2007']\n",
      "['Asia', 'Pakistan', '684.5971437999999', '747.0835292', '803.3427418', '942.4082588', '1049.938981', '1175.921193', '1443.429832', '1704.686583', '1971.8294640000001', '2049.3505210000003', '2092.712441', '2605.94758', '43.43600000000001', '45.556999999999995', '47.67', '49.8', '51.928999999999995', '54.043', '56.158', '58.245', '60.838', '61.818000000000005', '63.61', '65.483', '41346560', '46679944', '53100671', '60641899', '69325921', '78152686', '91462088', '105186881', '120065004', '135564834', '153403524', '169270617']\n"
     ]
    }
   ],
   "source": [
    "print(gap_tbl[0])\n",
    "print(gap_tbl[100])"
   ]
  },
  {
   "cell_type": "markdown",
   "metadata": {},
   "source": [
    "#### Exercise #4 using zip() and dict()\n",
    "Play around with using zip and dict to create dictionaries out of two lists.\n",
    "\n",
    "For example, zip together a list of state abbreviations with the states' full names. Or zip together a list of months and a list of average temperatures.\n",
    "\n",
    "Try the zip() procedure on two strings -- can you tell what happened?\n"
   ]
  },
  {
   "cell_type": "code",
   "execution_count": 19,
   "metadata": {},
   "outputs": [],
   "source": [
    "gap_records = []\n",
    "headers = gap_tbl[0]\n",
    "for row in gap_tbl[1:]:\n",
    "    record = zip(headers, row)\n",
    "    record = dict(record)\n",
    "    gap_records.append(record)"
   ]
  },
  {
   "cell_type": "code",
   "execution_count": 20,
   "metadata": {},
   "outputs": [
    {
     "name": "stdout",
     "output_type": "stream",
     "text": [
      "Country:  Liberia Life Expectancy 2007 45.678000000000004\n"
     ]
    }
   ],
   "source": [
    "print(\"Country: \", gap_records[25][\"country\"], \"Life Expectancy 2007\", gap_records[25]['lifeExp_2007'])"
   ]
  },
  {
   "cell_type": "code",
   "execution_count": 21,
   "metadata": {},
   "outputs": [
    {
     "name": "stdout",
     "output_type": "stream",
     "text": [
      "False\n"
     ]
    }
   ],
   "source": [
    "record1 = gap_records[0]\n",
    "print(record1['continent'] == 'Europe')"
   ]
  },
  {
   "cell_type": "code",
   "execution_count": 22,
   "metadata": {},
   "outputs": [
    {
     "name": "stdout",
     "output_type": "stream",
     "text": [
      "Algeria is in Africa.\n"
     ]
    }
   ],
   "source": [
    "if record1['continent'] == 'Africa':\n",
    "    print(record1['country'], 'is in Africa.')"
   ]
  },
  {
   "cell_type": "code",
   "execution_count": 23,
   "metadata": {},
   "outputs": [],
   "source": [
    "gap_records = []\n",
    "headers = gap_tbl[0]\n",
    "for row in gap_tbl[1:]:\n",
    "    if row[0]:\n",
    "        record = zip(headers, row)\n",
    "        record = dict(record)\n",
    "        gap_records.append(record)"
   ]
  },
  {
   "cell_type": "code",
   "execution_count": 24,
   "metadata": {},
   "outputs": [
    {
     "data": {
      "text/plain": [
       "142"
      ]
     },
     "execution_count": 24,
     "metadata": {},
     "output_type": "execute_result"
    }
   ],
   "source": [
    "len(gap_records)"
   ]
  }
 ],
 "metadata": {
  "kernelspec": {
   "display_name": "Python 3 (ipykernel)",
   "language": "python",
   "name": "python3"
  },
  "language_info": {
   "codemirror_mode": {
    "name": "ipython",
    "version": 3
   },
   "file_extension": ".py",
   "mimetype": "text/x-python",
   "name": "python",
   "nbconvert_exporter": "python",
   "pygments_lexer": "ipython3",
   "version": "3.9.7"
  }
 },
 "nbformat": 4,
 "nbformat_minor": 4
}
