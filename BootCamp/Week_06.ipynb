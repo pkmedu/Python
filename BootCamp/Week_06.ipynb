{
 "cells": [
  {
   "cell_type": "code",
   "execution_count": null,
   "id": "d9897e9e-064e-41d8-8a7f-10f49e55085f",
   "metadata": {},
   "outputs": [],
   "source": [
    "# Challenge question\n"
   ]
  },
  {
   "cell_type": "code",
   "execution_count": 1,
   "id": "745f0451-61d0-4f69-b231-466b1ada0691",
   "metadata": {},
   "outputs": [
    {
     "data": {
      "text/plain": [
       "True"
      ]
     },
     "execution_count": 1,
     "metadata": {},
     "output_type": "execute_result"
    }
   ],
   "source": [
    "def chk_pal(word):\n",
    "    word = word.lower()\n",
    "    word = word.replace(\" \",\"\")\n",
    "    temp = word[::-1]\n",
    "    if word == temp:\n",
    "        return True\n",
    "    else:\n",
    "        return False\n",
    "\n",
    "chk_pal(\"nurses run\")"
   ]
  },
  {
   "cell_type": "code",
   "execution_count": 2,
   "id": "35a85ade-95cb-4c19-a540-632b14f1db4a",
   "metadata": {},
   "outputs": [
    {
     "name": "stdout",
     "output_type": "stream",
     "text": [
      "{'name': 'Morty', 'age': 26}\n"
     ]
    }
   ],
   "source": [
    "#declaring a dictionary variable\n",
    "empty = {} #empty dictionary\n",
    "person = {\"name\":\"John Smith\"}\n",
    "#dictionary with one key/value pair\n",
    "customer = {\n",
    "    \"name\" : \"Morty\",\n",
    "    \"age\" : 26\n",
    "} #dictionary with two key/value pairs\n",
    "print(customer)"
   ]
  },
  {
   "cell_type": "code",
   "execution_count": 3,
   "id": "762b19d7-3aa8-4d03-8de1-e5987da558af",
   "metadata": {},
   "outputs": [
    {
     "name": "stdout",
     "output_type": "stream",
     "text": [
      "John\n"
     ]
    }
   ],
   "source": [
    "#accessing dictionary informatino through keys\n",
    "person = {\"name\" : \"John\"}\n",
    "print(person['name']) #access information through the key"
   ]
  },
  {
   "cell_type": "code",
   "execution_count": 4,
   "id": "1dcf9da6-556c-47d7-9a20-d7b5f1ac7a22",
   "metadata": {},
   "outputs": [
    {
     "name": "stdout",
     "output_type": "stream",
     "text": [
      "John\n",
      "Age is not available.\n"
     ]
    }
   ],
   "source": [
    "#using the get method to access dictionary information\n",
    "person = {\"name\" : \"John\"}\n",
    "print(person.get(\"name\")) #retrieves value of name key as before\n",
    "print(person.get(\"age\", \"Age is not available.\")) #get is a secure way to retrieve information"
   ]
  },
  {
   "cell_type": "code",
   "execution_count": 5,
   "id": "ef034872-761a-426d-aac9-1d0b15dcf386",
   "metadata": {},
   "outputs": [
    {
     "name": "stdout",
     "output_type": "stream",
     "text": [
      "baseball\n"
     ]
    }
   ],
   "source": [
    "#storing a list within a dictionary and accessing it\n",
    "data = {\"sports\" : [\"baseball\", \"football\", \"hockey\", \"soccer\"]}\n",
    "print(data[\"sports\"][0]) #first access the key, then the index"
   ]
  },
  {
   "cell_type": "code",
   "execution_count": 6,
   "id": "c1f57fe7-121d-4404-a338-36b5db94ffa0",
   "metadata": {},
   "outputs": [
    {
     "name": "stdout",
     "output_type": "stream",
     "text": [
      "{'name': 'Kirsten'}\n",
      "Kirsten\n"
     ]
    }
   ],
   "source": [
    "#storing a dictionary within a list and accessing it\n",
    "data = [\"John\", \"Dennis\", {\"name\" : \"Kirsten\"}]\n",
    "print(data[2]) #the dictionary is in index 2\n",
    "print(data[2][\"name\"]) #first access the index, then access the key"
   ]
  },
  {
   "cell_type": "code",
   "execution_count": 7,
   "id": "63dd37b2-d2a9-4cc0-9606-01927bc74b60",
   "metadata": {},
   "outputs": [
    {
     "name": "stdout",
     "output_type": "stream",
     "text": [
      "{'2018': 108, '2017': 93}\n",
      "108\n"
     ]
    }
   ],
   "source": [
    "#storing a dictionary within a dictinoary and accessing it\n",
    "data = {\n",
    "    \"team\" : \"Boston Red Sox\",\n",
    "    \"wins\" : {\"2018\" : 108, \"2017\" : 93}\n",
    "}\n",
    "print(data[\"wins\"]) #will output the dictionary within the wins key\n",
    "print(data[\"wins\"][\"2018\"]) #first access the wins key, then the next key"
   ]
  },
  {
   "cell_type": "code",
   "execution_count": 8,
   "id": "1ea4f333-eea6-477b-9c99-04c2a8b35459",
   "metadata": {},
   "outputs": [
    {
     "name": "stdin",
     "output_type": "stream",
     "text": [
      "type in your name  Bob\n",
      "type in your age  28\n"
     ]
    },
    {
     "name": "stdout",
     "output_type": "stream",
     "text": [
      "{'name': 'Bob', 'age': 28}\n"
     ]
    }
   ],
   "source": [
    "#1 User Input\n",
    "def usr_input():\n",
    "    ans1 = input(\"type in your name \")\n",
    "    ans2 = input(\"type in your age \")\n",
    "    ans2 = int(ans2)\n",
    "    my_dic = {\n",
    "        \"name\" : ans1,\n",
    "        \"age\" : ans2\n",
    "    }\n",
    "    return my_dic\n",
    "print(usr_input())"
   ]
  },
  {
   "cell_type": "code",
   "execution_count": 9,
   "id": "7b0bd23c-e40f-4190-811c-79bc00a2dbaa",
   "metadata": {},
   "outputs": [
    {
     "name": "stdout",
     "output_type": "stream",
     "text": [
      "cheese\n",
      "sausage\n",
      "peppers\n"
     ]
    }
   ],
   "source": [
    "#2 Accessing Ingredients\n",
    "pizza = {\n",
    "    \"ingredients\" : [\"cheese\", \"sausage\", \"peppers\"]\n",
    "}\n",
    "for i in range(len(pizza[\"ingredients\"])):\n",
    "    print(pizza[\"ingredients\"][i])"
   ]
  },
  {
   "cell_type": "code",
   "execution_count": 10,
   "id": "f8d8e03a-6616-4525-a3c6-313e7a95205f",
   "metadata": {},
   "outputs": [
    {
     "name": "stdout",
     "output_type": "stream",
     "text": [
      "Year : 2018 \t Color : Blue\n"
     ]
    }
   ],
   "source": [
    "#adding new key/value pairs to a dictionary\n",
    "car = {\"Year\" : \"2018\"}\n",
    "car[\"color\"] = \"Blue\"\n",
    "print(\"Year : {} \\t Color : {}\".format(car[\"Year\"],car[\"color\"]))"
   ]
  },
  {
   "cell_type": "code",
   "execution_count": 11,
   "id": "7aa4dd65-9bbe-4f1b-9d0c-8fa628810834",
   "metadata": {},
   "outputs": [
    {
     "name": "stdout",
     "output_type": "stream",
     "text": [
      "{}\n"
     ]
    }
   ],
   "source": [
    "#deleting a key/value pair from a dictionary\n",
    "car = {\"year\" : \"2018\"}\n",
    "try:\n",
    "    del car[\"year\"]\n",
    "    print(car)\n",
    "except:\n",
    "    print(\"That key does not exist\")"
   ]
  },
  {
   "cell_type": "code",
   "execution_count": 12,
   "id": "cbdd4d0d-fe72-4629-8985-aa89a5d9a4a3",
   "metadata": {},
   "outputs": [
    {
     "name": "stdout",
     "output_type": "stream",
     "text": [
      "name\n",
      "John\n",
      "age\n",
      "26\n"
     ]
    }
   ],
   "source": [
    "#looping over a dictionary via the keys\n",
    "person = {\"name\" : \"John\", \"age\" : 26}\n",
    "for key in person.keys():\n",
    "    print(key)\n",
    "    print(person[key])"
   ]
  },
  {
   "cell_type": "code",
   "execution_count": 13,
   "id": "648fe917-8226-4065-8e13-8cede96e48cf",
   "metadata": {},
   "outputs": [
    {
     "name": "stdout",
     "output_type": "stream",
     "text": [
      "name : John\n",
      "age : 26\n"
     ]
    }
   ],
   "source": [
    "#looping over a dictionary via the key/value pair\n",
    "person = {\"name\" : \"John\", \"age\" : 26}\n",
    "for key, value in person.items():\n",
    "    print(\"{} : {}\".format(key, value))"
   ]
  },
  {
   "cell_type": "code",
   "execution_count": 14,
   "id": "1e0bab33-5412-4aac-975a-cdae025d571b",
   "metadata": {},
   "outputs": [
    {
     "name": "stdin",
     "output_type": "stream",
     "text": [
      "what's your name? John\n",
      "where do you live? Philadelphia\n",
      "what's your phone number? 201-573-8900\n"
     ]
    },
    {
     "name": "stdout",
     "output_type": "stream",
     "text": [
      "Your name is John\n",
      "Your address is Philadelphia\n",
      "Your number is 201-573-8900\n"
     ]
    }
   ],
   "source": [
    "#1 User Input\n",
    "my_dic = {}\n",
    "\n",
    "name_ans = input(\"what's your name?\")\n",
    "my_dic[\"name\"] = name_ans\n",
    "\n",
    "add_ans = input(\"where do you live?\")\n",
    "my_dic[\"address\"] = add_ans\n",
    "\n",
    "num_ans = input(\"what's your phone number?\")\n",
    "my_dic[\"number\"] = num_ans\n",
    "\n",
    "for k,v in my_dic.items():\n",
    "    print(\"Your {} is {}\".format(k,v))"
   ]
  },
  {
   "cell_type": "code",
   "execution_count": 15,
   "id": "e6ced14d-86f8-440b-b7f1-c3e42a273464",
   "metadata": {},
   "outputs": [
    {
     "name": "stdout",
     "output_type": "stream",
     "text": [
      "John Smith\n"
     ]
    }
   ],
   "source": [
    "#2 Problem-Solving\n",
    "#person = {\"name\", \"John Smith\"}\n",
    "#print(person[\"name\"])\n",
    "\n",
    "person = {\"name\" : \"John Smith\"}\n",
    "print(person[\"name\"])"
   ]
  },
  {
   "cell_type": "code",
   "execution_count": 16,
   "id": "19d49293-cd98-4b4a-bca8-7715df57e0bc",
   "metadata": {},
   "outputs": [
    {
     "name": "stdout",
     "output_type": "stream",
     "text": [
      "<class 'tuple'> <class 'tuple'>\n"
     ]
    }
   ],
   "source": [
    "#declaring a tuple\n",
    "t1 = (\"hello\", 2, \"hello\") #with parens\n",
    "t2 = True, 1 #without parens\n",
    "print(type(t1), type(t2)) #both are tuples\n",
    "#t1[0] = 1 #will crash, tuples are immutable once declared"
   ]
  },
  {
   "cell_type": "code",
   "execution_count": 17,
   "id": "7da026b1-2999-4d92-a515-e0388fb9d2c4",
   "metadata": {},
   "outputs": [
    {
     "name": "stdout",
     "output_type": "stream",
     "text": [
      "<class 'set'> <class 'set'>\n",
      "{1, 2, 3}\n"
     ]
    }
   ],
   "source": [
    "#declaring a set\n",
    "s1 = set([1,2,3,1]) #uses the set keyword and square brackets\n",
    "s2 = {4,4,5} #uses curly brackest, like dictionary\n",
    "print(type(s1), type(s2))\n",
    "s1.add(5) #using the add method to add new itmes to a set\n",
    "s1.remove(5) # using the remove method to get rid otf the value 5\n",
    "print(s1)"
   ]
  },
  {
   "cell_type": "code",
   "execution_count": 18,
   "id": "7f264736-c336-4e7b-9871-775e28031cac",
   "metadata": {},
   "outputs": [
    {
     "name": "stdout",
     "output_type": "stream",
     "text": [
      "<class 'frozenset'>\n",
      "frozenset({1, 2, 3, 4})\n"
     ]
    }
   ],
   "source": [
    "#declaring a frozenset\n",
    "fset = frozenset([1,2,3,4])\n",
    "print(type(fset))\n",
    "print(fset)"
   ]
  },
  {
   "cell_type": "code",
   "execution_count": 19,
   "id": "446cad71-0bb2-464f-a639-7bf8ea907d6b",
   "metadata": {},
   "outputs": [
    {
     "name": "stdin",
     "output_type": "stream",
     "text": [
      "type in bank account number. If you wanna stop, type in 'quit'.  1324\n",
      "type in bank account number. If you wanna stop, type in 'quit'.  3245\n",
      "type in bank account number. If you wanna stop, type in 'quit'.  256\n",
      "type in bank account number. If you wanna stop, type in 'quit'.  quit\n"
     ]
    },
    {
     "name": "stdout",
     "output_type": "stream",
     "text": [
      "<class 'frozenset'>\n",
      "frozenset({'1324', '256', '3245'})\n"
     ]
    }
   ],
   "source": [
    "#User Input\n",
    "quit = False\n",
    "bank_list = []\n",
    "\n",
    "while not quit:\n",
    "    ans = input(\"type in bank account number. If you wanna stop, type in 'quit'. \").lower()\n",
    "    bank_list.append(ans)\n",
    "    if ans == \"quit\":\n",
    "        bank_list.remove(\"quit\")\n",
    "        quit = True\n",
    "\n",
    "frset_bank_list = frozenset(bank_list)\n",
    "print(type(frset_bank_list))\n",
    "print(frset_bank_list)"
   ]
  },
  {
   "cell_type": "code",
   "execution_count": 20,
   "id": "828204fc-14cd-4983-81c7-2b5b9e7bab32",
   "metadata": {},
   "outputs": [
    {
     "name": "stdout",
     "output_type": "stream",
     "text": [
      "<class 'set'>\n",
      "{10, 3, 4, 7}\n"
     ]
    }
   ],
   "source": [
    "#2 Conversion\n",
    "nums = [3, 4, 3, 7, 10]\n",
    "nums_set = set(nums)\n",
    "print(type(nums_set))\n",
    "print(nums_set)"
   ]
  },
  {
   "cell_type": "code",
   "execution_count": 24,
   "id": "c853d905-fdbd-4cb3-9a2a-11572fa20c71",
   "metadata": {},
   "outputs": [],
   "source": [
    "#opening/creating and writing to a text file\n",
    "f = open(r\"C:\\Data\\test.txt\",\"w+\") #open file in writing and reading mode\n",
    "f.write(\"this is a test\")\n",
    "f.close()"
   ]
  },
  {
   "cell_type": "code",
   "execution_count": 26,
   "id": "79d1191f-aaa1-404c-b54d-a640c645f58e",
   "metadata": {},
   "outputs": [
    {
     "name": "stdout",
     "output_type": "stream",
     "text": [
      "this is a test\n"
     ]
    }
   ],
   "source": [
    "#reading from a text file\n",
    "f = open(r\"C:\\Data\\test.txt\", \"r\")\n",
    "data = f.read()\n",
    "f.close()\n",
    "print(data)"
   ]
  },
  {
   "cell_type": "code",
   "execution_count": 27,
   "id": "102e20f5-f3ea-455d-9414-e8ecbe2a38e0",
   "metadata": {},
   "outputs": [],
   "source": [
    "#opening/creating and writing to a csv file\n",
    "import csv\n",
    "with open(\"test.csv\",mode=\"w\",newline=\"\") as f:\n",
    "    writer = csv.writer(f, delimiter=\",\")\n",
    "    writer.writerow([\"Name\", \"City\"])\n",
    "    writer.writerow([\"Craig Lou\", \"Taiwan\"])"
   ]
  },
  {
   "cell_type": "code",
   "execution_count": 28,
   "id": "0ab3f579-a59f-46d7-bda4-5e4846254495",
   "metadata": {},
   "outputs": [
    {
     "name": "stdout",
     "output_type": "stream",
     "text": [
      "['Name', 'City']\n",
      "['Craig Lou', 'Taiwan']\n"
     ]
    }
   ],
   "source": [
    "#reading from csv files\n",
    "with open(\"test.csv\", mode = \"r\") as f:\n",
    "    reader = csv.reader(f, delimiter=\",\")\n",
    "    for row in reader:\n",
    "        print(row)"
   ]
  },
  {
   "cell_type": "code",
   "execution_count": 29,
   "id": "569492f6-d553-4192-b882-746330d4825b",
   "metadata": {},
   "outputs": [
    {
     "name": "stdin",
     "output_type": "stream",
     "text": [
      "type in your favorite number 3475\n"
     ]
    }
   ],
   "source": [
    "#1 User Input\n",
    "ans1 = input(\"type in your favorite number\")\n",
    "my_file = open(\"ans1.txt\",\"w+\")\n",
    "my_file.write(ans1)\n",
    "my_file.close()"
   ]
  },
  {
   "cell_type": "code",
   "execution_count": 30,
   "id": "ccb9fcff-e3df-4f2a-8ca2-c449a7b8530f",
   "metadata": {},
   "outputs": [],
   "source": [
    "#2 Data Dumping\n",
    "data = {'name' : ['Dave', 'Dennis', 'Peter', 'Jess'],\n",
    "       'language' : ['Python', 'C', 'Java', 'Python']\n",
    "       }\n",
    "with open(\"thu_exercise.csv\",mode = \"w+\", newline = \"\") as f:\n",
    "    writer_keys = csv.writer(f, delimiter=\",\")\n",
    "    writer_keys.writerow(['name', 'language'])\n",
    "    for value_num in range(len(data['name'])):\n",
    "        writer_value = csv.writer(f, delimiter = \",\")\n",
    "        writer_value.writerow([data['name'][value_num],data['language'][value_num]])"
   ]
  },
  {
   "cell_type": "markdown",
   "id": "6f76dba0-0a97-4f3b-a7fc-b9ee1229bb3b",
   "metadata": {},
   "source": [
    "Friday: Creating a User Database with CSV Files."
   ]
  },
  {
   "cell_type": "code",
   "execution_count": 31,
   "id": "f2e96160-ee6c-4727-9b08-b9b2eada120b",
   "metadata": {},
   "outputs": [],
   "source": [
    "from IPython.display import clear_output\n",
    "import time\n",
    "\n",
    "\n",
    "userInfo = {}\n",
    "login = False\n",
    "userId = \"\"\n",
    "userPw = \"\"\n",
    "\n",
    "def frontPage():\n",
    "    print(\"*\"*50)\n",
    "    print(\"\\t\\tSHINIL SERVICE\")\n",
    "    print(\"*\"*50)\n",
    "\n",
    "def receive_user_info ():\n",
    "    chkId = \"a\"\n",
    "    chkPw = \"a\"\n",
    "    while chkId != userId and chkPw != userPw:\n",
    "        chkId = input(\"type in your ID: \")\n",
    "        chkPw = input(\"type in your PW: \")\n",
    "        if chkId == userId and chkPw == userPw:\n",
    "            login = True\n",
    "            print(\"you're logged in.\")\n",
    "            time.sleep(2)\n",
    "            clear_output()\n",
    "            quitORlogout()\n",
    "        else:\n",
    "            clear_output()\n",
    "            print(\"it is wrong, try again.\")\n",
    "            \n",
    "            \n",
    "def register_user_info():\n",
    "    chkPw2 = \"\"\n",
    "    userId = input(\"type in what you want to use for your ID: \")\n",
    "    userPw = input(\"type in what you want to use for you PW: \")\n",
    "    userInfo[\"userId\"] = userPw\n",
    "    while chkPw2 != userInfo[\"userId\"]:\n",
    "        chkPw2 = input(\"type in your password one more time.\")\n",
    "        if chkPw2 == userInfo[\"userId\"]:\n",
    "            print(\"your information is successfully saved.\")\n",
    "        else:\n",
    "            clear_output()\n",
    "            print(\"wrong. try again.\")\n",
    "            \n",
    "def quitORlogout():\n",
    "    chkQuit = input(\"Would you like to quit or logout? \").lower()\n",
    "    while chkQuit != \"quit\" and chkQuit != \"logout\":\n",
    "        print(\"you typed in wrong. try again.\")\n",
    "        clear_output()\n",
    "        chkQuit = input(\"Would you like to quit or logout? \").lower()\n",
    "    if chkQuit == \"quit\":\n",
    "            login = False\n",
    "            print(\"Okay, Thanks for using our service. Good Bye.\")\n",
    "            time.sleep(2)\n",
    "            clear_output()\n",
    "    elif chkQuit == \"logout\":\n",
    "            print(\"You're successfully logged out.\")\n",
    "            login = False\n",
    "            time.sleep(2)\n",
    "            clear_output()\n",
    "            frontPage()\n",
    "            loginSession()\n",
    "    \n",
    "def loginSession():\n",
    "    ans = input(\"Would you like to log in / register / quit? \").lower()\n",
    "    if ans == \"log in\":\n",
    "        receive_user_info()\n",
    "    elif ans == \"register\":\n",
    "        register_user_info()\n",
    "        time.sleep(2)\n",
    "        clear_output()\n",
    "        quitORlogout()\n",
    "    elif ans == \"quit\":\n",
    "        print(\"Okay. Thanks for using our service. Good Bye.\")\n",
    "        time.sleep(2)\n",
    "        clear_output()\n",
    "    else:\n",
    "        print(\"Error. Try again.\")\n",
    "        time.sleep(1)\n",
    "        clear_output()\n",
    "\n",
    "\n",
    "frontPage()\n",
    "        \n",
    "if login == True:\n",
    "    quitORlogout()\n",
    "\n",
    "else:\n",
    "    loginSession()"
   ]
  },
  {
   "cell_type": "code",
   "execution_count": 32,
   "id": "50ae207c-328a-48b9-8fb3-2704049c0396",
   "metadata": {},
   "outputs": [
    {
     "name": "stdout",
     "output_type": "stream",
     "text": [
      "Thanks for using our software!\n"
     ]
    }
   ],
   "source": [
    "#import all necessary packages to be used\n",
    "import csv\n",
    "from IPython.display import clear_output\n",
    "\n",
    "#handle user registration and writing to csv\n",
    "def registerUser():\n",
    "    with open(\"users.csv\", mode = \"a\", newline = \"\") as f:\n",
    "        writer = csv.writer(f, delimiter = \",\")\n",
    "        print(\"To register, please enter your info: \")\n",
    "        email = input(\"E-mail: \")\n",
    "        password = input('Password: ')\n",
    "        password2 = input(\"Re-type password: \")\n",
    "        clear_output()\n",
    "        if password == password2:\n",
    "            writer.writerow([email, password])\n",
    "            print(\"You are now registered!\")\n",
    "        else:\n",
    "            print(\"Something went wrong. Try again.\")\n",
    "            \n",
    "#ask for user info and return to login or false if incorrect info\n",
    "def loginUser():\n",
    "    print(\"To login, please enter your info: \")\n",
    "    email = input(\"E-mail: \")\n",
    "    password = input(\"Password: \")\n",
    "    clear_output()\n",
    "    with open(\"users.csv\", mode = \"r\") as f:\n",
    "        reader = csv.reader(f, delimiter = \",\")\n",
    "        for row in reader:\n",
    "            if row == [email, password]:\n",
    "                print(\"You are now logged in!\")\n",
    "                return True\n",
    "    print(\"Something went wrong, try again.\")\n",
    "    return False\n",
    "\n",
    "#create user.csv before running the program\n",
    "userData = open(\"users.csv\", mode = \"a\", newline = \"\")\n",
    "userData.close()\n",
    "\n",
    "#variables for main loop\n",
    "active = True\n",
    "logged_in = False\n",
    "# main loop\n",
    "while active:\n",
    "    if logged_in:\n",
    "        print(\"1. Logout\\n2.Quit\")\n",
    "    else:\n",
    "        print(\"1. Login\\n2. Register\\n3. Quit\")\n",
    "    choice = input(\"What would you like to do? \").lower()\n",
    "    clear_output()\n",
    "    if choice == \"register\" and logged_in == False:\n",
    "        registerUser()\n",
    "    elif choice == \"login\" and logged_in == False:\n",
    "        logged_in = loginUser()\n",
    "    elif choice == \"quit\":\n",
    "        active = False\n",
    "        print(\"Thanks for using our software!\")\n",
    "    elif choice == \"logout\" and logged_in == True:\n",
    "        logged_in = False\n",
    "        print(\"You are now logged out.\")\n",
    "    else:\n",
    "        print(\"Sorry, please try again!\")"
   ]
  },
  {
   "cell_type": "code",
   "execution_count": null,
   "id": "ce02848f-cd3c-4dda-9366-a477a9621b77",
   "metadata": {},
   "outputs": [],
   "source": []
  }
 ],
 "metadata": {
  "kernelspec": {
   "display_name": "Python 3 (ipykernel)",
   "language": "python",
   "name": "python3"
  },
  "language_info": {
   "codemirror_mode": {
    "name": "ipython",
    "version": 3
   },
   "file_extension": ".py",
   "mimetype": "text/x-python",
   "name": "python",
   "nbconvert_exporter": "python",
   "pygments_lexer": "ipython3",
   "version": "3.9.7"
  }
 },
 "nbformat": 4,
 "nbformat_minor": 5
}
