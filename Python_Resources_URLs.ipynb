{
 "cells": [
  {
   "cell_type": "code",
   "execution_count": null,
   "id": "7e4efe37-861b-4412-bfbe-0e2a2f407481",
   "metadata": {},
   "outputs": [],
   "source": []
  },
  {
   "cell_type": "markdown",
   "id": "b5e846e9-d0a0-4005-80be-deb3b76a5051",
   "metadata": {},
   "source": [
    "[Pandas DataFrame](https://thispointer.com/pandas-dataframe-loc/)\n",
    "\n",
    "Select rows of Dataframe based on Callable function\n",
    "Select rows of Dataframe based on bool array\n",
    "Select a few Columns from Dataframe\n",
    "Select multiple columns from Dataframe based on list of names\n",
    "Select multiple columns from Dataframe based on name range\n",
    "Select subset of Dataframe based on row/column names in list"
   ]
  },
  {
   "cell_type": "markdown",
   "id": "0253b8f6-3bcf-47d1-ab67-31b861246bb2",
   "metadata": {},
   "source": [
    "Select a few rows from Dataframe, but include all column values\n",
    "\n",
    "    Select a single row of Dataframe\n",
    "\n",
    "    Select rows of Dataframe based on row label names in list\n",
    "\n",
    "    Select rows of Dataframe based on row label name range\n",
    "\n",
    "    Select rows of Dataframe based on bool array\n",
    "\n",
    "    Select rows of Dataframe based on callable function"
   ]
  },
  {
   "cell_type": "markdown",
   "id": "3608afc8-3da6-46b0-a954-ffdb5055063c",
   "metadata": {},
   "source": [
    "Select a subset of Dataframe with few rows and columns\n",
    "\n",
    "    Select a Cell value from Dataframe\n",
    "    \n",
    "    Select subset of Dataframe based on row/column names in list\n",
    "    \n",
    "    Select subset of Dataframe based on row and column name range."
   ]
  },
  {
   "cell_type": "markdown",
   "id": "3be9c9ed-b709-41d9-928c-9b0e39cce1d5",
   "metadata": {},
   "source": [
    "[Select DataFrame rows based on multiple conditions](https://thispointer.com/pandas-tutorial-part-9-filter-dataframe-rows/)\n",
    "```\n",
    "# Select only those rows where sale\n",
    "# value is between 30 and 40\n",
    "df = df[(df['Sale'] > 30) & (df['Sale'] < 40)]\n",
    "# Display the DataFrame\n",
    "print(df)\n",
    "```"
   ]
  },
  {
   "cell_type": "markdown",
   "id": "2b0de93f-39fd-4a86-9e68-a264e5d22d3d",
   "metadata": {},
   "source": [
    "[Get statistics for each group based on a single column](https://thispointer.com/get-statistics-for-each-group-using-pandas-groupby/)\n",
    "\n",
    "```\n",
    "# get avg. experience by team\n",
    "print (df.groupby(\"Team\")[\"Experience\"].mean())\n",
    "```\n"
   ]
  },
  {
   "cell_type": "markdown",
   "id": "418c331c-3082-4246-8faa-abf5a9321f20",
   "metadata": {},
   "source": [
    "Get statistics for each group based on multiple columns\n",
    "\n",
    "```\n",
    "# get avg. experience by team\n",
    "print (df.groupby([\"Team\", \"Country\"])[\"Experience\"].describe())\n",
    "```"
   ]
  },
  {
   "cell_type": "markdown",
   "id": "f5190b0d-2158-41b8-9e1c-6b2dc78a212b",
   "metadata": {},
   "source": [
    "# Get statistics for each group using multiple aggregations\n",
    "\n",
    "The above example to include multiple columns was simple since the aggregation we wanted to do was same for both the columns. But in case, let’s say, we wanted to take the average of Experience but the median of the Age column by Team. In such cases, the agg function comes in handy.\n",
    "\n",
    "# get avg. experience and median age by team\n",
    "```\n",
    "print (df.groupby(\"Team\").agg({\n",
    "    'Experience':'mean',\n",
    "    'Age': 'median'\n",
    "}))\n",
    "```"
   ]
  },
  {
   "cell_type": "markdown",
   "id": "3a2eb132-7940-4a87-8e54-6d7dbd3777d1",
   "metadata": {},
   "source": [
    "We could also use multiple aggregations for the same column. For example, let’s calculate the both mean and medium for the Experience column.\n",
    "\n",
    "# get avg. and median experience, and median age by team\n",
    "```\n",
    "print (df.groupby(\"Team\").agg({\n",
    "    'Experience':['mean', 'median'],\n",
    "    'Age': 'median'\n",
    "}))\n",
    "```"
   ]
  },
  {
   "cell_type": "markdown",
   "id": "48af57a6-bf6b-455b-afd5-6016184cae6e",
   "metadata": {},
   "source": [
    "# Get statistics for each group using the apply() method\n",
    "\n",
    "The apply method is also similar to the agg method, but the apply function provides more flexibility to write custom functions to get the statistics by each group. For example, let’s create a custom function to get the mean of Experience for each Team group.\n",
    "\n",
    "# using the apply method\n",
    "```\n",
    "def get_mean(x):\n",
    "    return x.mean()\n",
    "print (df.groupby('Team')['Experience'].apply(get_mean))\n",
    "```"
   ]
  },
  {
   "cell_type": "markdown",
   "id": "a461e638-36aa-43f5-8417-d1744dced6bf",
   "metadata": {},
   "source": [
    "# Get statistics for each group using the transform() method\n",
    "\n",
    "Another interesting way to calculate statistics for each group is using the transform method. The advantage of using this method calculates the statistic across each group and then populates it back to all the rows in the order of the original row indices. This is extremely useful when we want to store the statistic in the same DataFrame, as it avoids an additional step to join the statistics back to the original DataFrame.\n",
    "\n",
    "For example, let’s again take the average of Experience column by Team and store it as a new column “avg_age_by_team” in the DataFrame.\n",
    "\n",
    "\n",
    "# using the transform method\n",
    "```\n",
    "df['avg_age_by_team'] = df.groupby('Team')['Age'].transform('mean')\n",
    "print (df)\n",
    "```"
   ]
  },
  {
   "cell_type": "markdown",
   "id": "7985a945-78eb-4455-8e60-0dd3046387f0",
   "metadata": {},
   "source": [
    "At the most basic level, a custom function requires only five components:\n",
    "\n",
    "1. Use the def keyword to begin the function definition.\n",
    "2. Name your function.\n",
    "3. Supply one or more parameters. ...\n",
    "4. Enter lines of code that make your function do whatever it does. ...\n",
    "5. Use the return keyword at the end of the function to return the output."
   ]
  },
  {
   "cell_type": "markdown",
   "id": "b8424ea1-09e6-441e-8ac6-1d52ecf927e5",
   "metadata": {},
   "source": [
    "[Lambda Function](https://www.w3resource.com/python/python-user-defined-functions.php)\n",
    "\n",
    "# Lambda Forms:\n",
    "\n",
    "In Python, small anonymous (unnamed) functions can be created with lambda keyword. Lambda forms can be used as an argument to other function where function objects are required but syntactically they are restricted to a single expression. A function like this:\n",
    "\n",
    "```\n",
    "def average(x, y):\n",
    "    return (x + y)/2\n",
    "print(average(4, 3))\n",
    "\n",
    "# may also be defined using lambda\n",
    "\n",
    "print((lambda x, y: (x + y)/2)(4, 3))\n",
    "\n",
    "```"
   ]
  },
  {
   "cell_type": "markdown",
   "id": "01f58b24-927e-4c74-be47-6f3e68b0a9b3",
   "metadata": {},
   "source": [
    "[Writing Parquet Files in Python with Pandas, PySpark, and Koalas](https://mungingdata.com/python/writing-parquet-pandas-pyspark-koalas/)"
   ]
  },
  {
   "cell_type": "code",
   "execution_count": 1,
   "id": "0f3530ef-acb1-4acd-809e-fd911ef4551a",
   "metadata": {},
   "outputs": [
    {
     "name": "stdout",
     "output_type": "stream",
     "text": [
      "Python 3.9.7\n"
     ]
    }
   ],
   "source": [
    "!python --version\n"
   ]
  },
  {
   "cell_type": "code",
   "execution_count": 1,
   "id": "378ee29e-1842-4882-9ed1-f2c733136c4d",
   "metadata": {},
   "outputs": [
    {
     "name": "stdout",
     "output_type": "stream",
     "text": [
      "Sum = 21\n",
      "Avg = 3.5\n"
     ]
    }
   ],
   "source": [
    "int_list = [1, 2, 3, 4, 5, 6]\n",
    "sum = 0\n",
    "for iter in int_list:\n",
    "    sum += iter\n",
    "print(\"Sum =\", sum)\n",
    "print(\"Avg =\", sum/len(int_list))"
   ]
  },
  {
   "cell_type": "markdown",
   "id": "0631d755-9af1-4947-a150-1e20d65c48e7",
   "metadata": {},
   "source": [
    "\n",
    "\n",
    "\n",
    "\n"
   ]
  }
 ],
 "metadata": {
  "kernelspec": {
   "display_name": "Python 3 (ipykernel)",
   "language": "python",
   "name": "python3"
  },
  "language_info": {
   "codemirror_mode": {
    "name": "ipython",
    "version": 3
   },
   "file_extension": ".py",
   "mimetype": "text/x-python",
   "name": "python",
   "nbconvert_exporter": "python",
   "pygments_lexer": "ipython3",
   "version": "3.9.7"
  }
 },
 "nbformat": 4,
 "nbformat_minor": 5
}
